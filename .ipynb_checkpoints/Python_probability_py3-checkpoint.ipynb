{
 "cells": [
  {
   "cell_type": "code",
   "execution_count": 54,
   "metadata": {
    "ExecuteTime": {
     "end_time": "2019-01-23T12:54:34.102324Z",
     "start_time": "2019-01-23T12:54:32.525184Z"
    }
   },
   "outputs": [
    {
     "name": "stdout",
     "output_type": "stream",
     "text": [
      "     1\t#!echo \"hello python\"\r\n",
      "     2\timport pandas as pd\r\n",
      "     3\timport numpy as np\r\n",
      "     4\timport matplotlib.pyplot as plt\r\n",
      "     5\timport matplotlib \r\n",
      "     6\tmatplotlib.rcParams['text.latex.preamble'] = [r'\\boldmath']\r\n",
      "     7\timport sys\r\n",
      "     8\tsys.path.append(\"/Users/rajesh/work/github/python_packages\")\r\n"
     ]
    }
   ],
   "source": [
    "%run script.py\n",
    "!cat -n  script.py"
   ]
  },
  {
   "cell_type": "code",
   "execution_count": 55,
   "metadata": {
    "ExecuteTime": {
     "end_time": "2019-01-23T12:54:34.138848Z",
     "start_time": "2019-01-23T12:54:34.129732Z"
    }
   },
   "outputs": [
    {
     "data": {
      "text/plain": [
       "array([0.84147098, 0.90929743, 0.14112001])"
      ]
     },
     "execution_count": 55,
     "metadata": {},
     "output_type": "execute_result"
    }
   ],
   "source": [
    "x = np.array([1,2,3])\n",
    "x.itemsize\n",
    "np.sin(x)"
   ]
  },
  {
   "cell_type": "code",
   "execution_count": 56,
   "metadata": {
    "ExecuteTime": {
     "end_time": "2019-01-23T12:54:34.168596Z",
     "start_time": "2019-01-23T12:54:34.160176Z"
    }
   },
   "outputs": [
    {
     "data": {
      "text/plain": [
       "'/Users/rajesh/work/github/helloword'"
      ]
     },
     "execution_count": 56,
     "metadata": {},
     "output_type": "execute_result"
    }
   ],
   "source": [
    "pwd"
   ]
  },
  {
   "cell_type": "code",
   "execution_count": 57,
   "metadata": {
    "ExecuteTime": {
     "end_time": "2019-01-23T12:54:34.208675Z",
     "start_time": "2019-01-23T12:54:34.195431Z"
    }
   },
   "outputs": [
    {
     "name": "stdout",
     "output_type": "stream",
     "text": [
      "/Users/rajesh/work/github\n"
     ]
    }
   ],
   "source": [
    "cd ../"
   ]
  },
  {
   "cell_type": "code",
   "execution_count": 58,
   "metadata": {
    "ExecuteTime": {
     "end_time": "2019-01-23T12:54:34.241544Z",
     "start_time": "2019-01-23T12:54:34.232255Z"
    }
   },
   "outputs": [
    {
     "data": {
      "text/plain": [
       "'/Users/rajesh/work/github'"
      ]
     },
     "execution_count": 58,
     "metadata": {},
     "output_type": "execute_result"
    }
   ],
   "source": [
    "pwd"
   ]
  },
  {
   "cell_type": "code",
   "execution_count": 59,
   "metadata": {
    "ExecuteTime": {
     "end_time": "2019-01-23T12:54:34.419040Z",
     "start_time": "2019-01-23T12:54:34.267153Z"
    }
   },
   "outputs": [
    {
     "name": "stdout",
     "output_type": "stream",
     "text": [
      "/Users/rajesh/work/github\r\n"
     ]
    }
   ],
   "source": [
    "import lmps.log as log\n",
    "tables = log.reader('log.lammps')\n",
    "!pwd\n"
   ]
  },
  {
   "cell_type": "code",
   "execution_count": 60,
   "metadata": {
    "ExecuteTime": {
     "end_time": "2019-01-23T12:54:34.645641Z",
     "start_time": "2019-01-23T12:54:34.510216Z"
    }
   },
   "outputs": [
    {
     "name": "stdout",
     "output_type": "stream",
     "text": [
      "   63000    2940.0406   -539142.45    2631.9553    40.487214     2.020901 \r\n",
      "   64000    3005.2173   -538122.48   -1296.3465    40.528008    2.0148046 \r\n",
      "   65000    2930.7983   -538002.76   -2005.3159    40.514786    2.0167779 \r\n",
      "   66000    3028.5625    -539032.6   -982.19953     40.44742    2.0268716 \r\n",
      "   67000    2924.6372   -538583.29    4031.6264    40.457572    2.0253462 \r\n",
      "   68000    3017.1608   -538640.71   -6443.3127    40.590075    2.0055762 \r\n",
      "   69000     3017.128      -539032   -1617.9181    40.495635    2.0196405 \r\n",
      "   70000    2922.8512   -539474.11      1759.18    40.442655    2.0275881 \r\n",
      "ERROR: Lost atoms: original 4004 current 4003 (../thermo.cpp:442)\r\n",
      "Last command: run 2700000\r\n"
     ]
    }
   ],
   "source": [
    "!tail log.lammps"
   ]
  },
  {
   "cell_type": "code",
   "execution_count": 61,
   "metadata": {
    "ExecuteTime": {
     "end_time": "2019-01-23T12:54:35.234249Z",
     "start_time": "2019-01-23T12:54:35.211198Z"
    }
   },
   "outputs": [
    {
     "data": {
      "text/html": [
       "<div>\n",
       "<style scoped>\n",
       "    .dataframe tbody tr th:only-of-type {\n",
       "        vertical-align: middle;\n",
       "    }\n",
       "\n",
       "    .dataframe tbody tr th {\n",
       "        vertical-align: top;\n",
       "    }\n",
       "\n",
       "    .dataframe thead th {\n",
       "        text-align: right;\n",
       "    }\n",
       "</style>\n",
       "<table border=\"1\" class=\"dataframe\">\n",
       "  <thead>\n",
       "    <tr style=\"text-align: right;\">\n",
       "      <th></th>\n",
       "      <th>Step</th>\n",
       "      <th>Temp</th>\n",
       "      <th>PotEng</th>\n",
       "      <th>Press</th>\n",
       "      <th>Lx</th>\n",
       "      <th>Density</th>\n",
       "    </tr>\n",
       "  </thead>\n",
       "  <tbody>\n",
       "    <tr>\n",
       "      <th>0</th>\n",
       "      <td>50000.0</td>\n",
       "      <td>2957.7802</td>\n",
       "      <td>-538067.14</td>\n",
       "      <td>6267.109500</td>\n",
       "      <td>40.484337</td>\n",
       "      <td>2.021332</td>\n",
       "    </tr>\n",
       "    <tr>\n",
       "      <th>1</th>\n",
       "      <td>51000.0</td>\n",
       "      <td>2953.3810</td>\n",
       "      <td>-538493.85</td>\n",
       "      <td>7698.582900</td>\n",
       "      <td>40.394294</td>\n",
       "      <td>2.034879</td>\n",
       "    </tr>\n",
       "    <tr>\n",
       "      <th>2</th>\n",
       "      <td>52000.0</td>\n",
       "      <td>2981.1085</td>\n",
       "      <td>-538899.43</td>\n",
       "      <td>-1710.209200</td>\n",
       "      <td>40.461200</td>\n",
       "      <td>2.024801</td>\n",
       "    </tr>\n",
       "    <tr>\n",
       "      <th>3</th>\n",
       "      <td>53000.0</td>\n",
       "      <td>3043.8697</td>\n",
       "      <td>-538183.82</td>\n",
       "      <td>1518.864800</td>\n",
       "      <td>40.441690</td>\n",
       "      <td>2.027733</td>\n",
       "    </tr>\n",
       "    <tr>\n",
       "      <th>4</th>\n",
       "      <td>54000.0</td>\n",
       "      <td>2986.0383</td>\n",
       "      <td>-538272.53</td>\n",
       "      <td>-2725.666800</td>\n",
       "      <td>40.591784</td>\n",
       "      <td>2.005323</td>\n",
       "    </tr>\n",
       "    <tr>\n",
       "      <th>5</th>\n",
       "      <td>55000.0</td>\n",
       "      <td>2981.8617</td>\n",
       "      <td>-538370.10</td>\n",
       "      <td>62.257118</td>\n",
       "      <td>40.429824</td>\n",
       "      <td>2.029519</td>\n",
       "    </tr>\n",
       "    <tr>\n",
       "      <th>6</th>\n",
       "      <td>56000.0</td>\n",
       "      <td>2987.7479</td>\n",
       "      <td>-538695.30</td>\n",
       "      <td>-3489.927300</td>\n",
       "      <td>40.543211</td>\n",
       "      <td>2.012539</td>\n",
       "    </tr>\n",
       "    <tr>\n",
       "      <th>7</th>\n",
       "      <td>57000.0</td>\n",
       "      <td>3041.0665</td>\n",
       "      <td>-537398.30</td>\n",
       "      <td>5544.245000</td>\n",
       "      <td>40.558898</td>\n",
       "      <td>2.010205</td>\n",
       "    </tr>\n",
       "    <tr>\n",
       "      <th>8</th>\n",
       "      <td>58000.0</td>\n",
       "      <td>2981.8630</td>\n",
       "      <td>-538000.90</td>\n",
       "      <td>-4185.785800</td>\n",
       "      <td>40.572963</td>\n",
       "      <td>2.008115</td>\n",
       "    </tr>\n",
       "    <tr>\n",
       "      <th>9</th>\n",
       "      <td>59000.0</td>\n",
       "      <td>3040.7966</td>\n",
       "      <td>-537600.49</td>\n",
       "      <td>4856.977100</td>\n",
       "      <td>40.583541</td>\n",
       "      <td>2.006545</td>\n",
       "    </tr>\n",
       "    <tr>\n",
       "      <th>10</th>\n",
       "      <td>60000.0</td>\n",
       "      <td>2954.9709</td>\n",
       "      <td>-537874.99</td>\n",
       "      <td>-2589.257600</td>\n",
       "      <td>40.498595</td>\n",
       "      <td>2.019198</td>\n",
       "    </tr>\n",
       "    <tr>\n",
       "      <th>11</th>\n",
       "      <td>61000.0</td>\n",
       "      <td>2985.5599</td>\n",
       "      <td>-537783.26</td>\n",
       "      <td>-4463.457000</td>\n",
       "      <td>40.558723</td>\n",
       "      <td>2.010231</td>\n",
       "    </tr>\n",
       "    <tr>\n",
       "      <th>12</th>\n",
       "      <td>62000.0</td>\n",
       "      <td>3025.7805</td>\n",
       "      <td>-538083.91</td>\n",
       "      <td>1196.352900</td>\n",
       "      <td>40.529947</td>\n",
       "      <td>2.014515</td>\n",
       "    </tr>\n",
       "    <tr>\n",
       "      <th>13</th>\n",
       "      <td>63000.0</td>\n",
       "      <td>2940.0406</td>\n",
       "      <td>-539142.45</td>\n",
       "      <td>2631.955300</td>\n",
       "      <td>40.487214</td>\n",
       "      <td>2.020901</td>\n",
       "    </tr>\n",
       "    <tr>\n",
       "      <th>14</th>\n",
       "      <td>64000.0</td>\n",
       "      <td>3005.2173</td>\n",
       "      <td>-538122.48</td>\n",
       "      <td>-1296.346500</td>\n",
       "      <td>40.528008</td>\n",
       "      <td>2.014805</td>\n",
       "    </tr>\n",
       "    <tr>\n",
       "      <th>15</th>\n",
       "      <td>65000.0</td>\n",
       "      <td>2930.7983</td>\n",
       "      <td>-538002.76</td>\n",
       "      <td>-2005.315900</td>\n",
       "      <td>40.514786</td>\n",
       "      <td>2.016778</td>\n",
       "    </tr>\n",
       "    <tr>\n",
       "      <th>16</th>\n",
       "      <td>66000.0</td>\n",
       "      <td>3028.5625</td>\n",
       "      <td>-539032.60</td>\n",
       "      <td>-982.199530</td>\n",
       "      <td>40.447420</td>\n",
       "      <td>2.026872</td>\n",
       "    </tr>\n",
       "    <tr>\n",
       "      <th>17</th>\n",
       "      <td>67000.0</td>\n",
       "      <td>2924.6372</td>\n",
       "      <td>-538583.29</td>\n",
       "      <td>4031.626400</td>\n",
       "      <td>40.457572</td>\n",
       "      <td>2.025346</td>\n",
       "    </tr>\n",
       "    <tr>\n",
       "      <th>18</th>\n",
       "      <td>68000.0</td>\n",
       "      <td>3017.1608</td>\n",
       "      <td>-538640.71</td>\n",
       "      <td>-6443.312700</td>\n",
       "      <td>40.590075</td>\n",
       "      <td>2.005576</td>\n",
       "    </tr>\n",
       "    <tr>\n",
       "      <th>19</th>\n",
       "      <td>69000.0</td>\n",
       "      <td>3017.1280</td>\n",
       "      <td>-539032.00</td>\n",
       "      <td>-1617.918100</td>\n",
       "      <td>40.495635</td>\n",
       "      <td>2.019640</td>\n",
       "    </tr>\n",
       "    <tr>\n",
       "      <th>20</th>\n",
       "      <td>70000.0</td>\n",
       "      <td>2922.8512</td>\n",
       "      <td>-539474.11</td>\n",
       "      <td>1759.180000</td>\n",
       "      <td>40.442655</td>\n",
       "      <td>2.027588</td>\n",
       "    </tr>\n",
       "  </tbody>\n",
       "</table>\n",
       "</div>"
      ],
      "text/plain": [
       "       Step       Temp     PotEng        Press         Lx   Density\n",
       "0   50000.0  2957.7802 -538067.14  6267.109500  40.484337  2.021332\n",
       "1   51000.0  2953.3810 -538493.85  7698.582900  40.394294  2.034879\n",
       "2   52000.0  2981.1085 -538899.43 -1710.209200  40.461200  2.024801\n",
       "3   53000.0  3043.8697 -538183.82  1518.864800  40.441690  2.027733\n",
       "4   54000.0  2986.0383 -538272.53 -2725.666800  40.591784  2.005323\n",
       "5   55000.0  2981.8617 -538370.10    62.257118  40.429824  2.029519\n",
       "6   56000.0  2987.7479 -538695.30 -3489.927300  40.543211  2.012539\n",
       "7   57000.0  3041.0665 -537398.30  5544.245000  40.558898  2.010205\n",
       "8   58000.0  2981.8630 -538000.90 -4185.785800  40.572963  2.008115\n",
       "9   59000.0  3040.7966 -537600.49  4856.977100  40.583541  2.006545\n",
       "10  60000.0  2954.9709 -537874.99 -2589.257600  40.498595  2.019198\n",
       "11  61000.0  2985.5599 -537783.26 -4463.457000  40.558723  2.010231\n",
       "12  62000.0  3025.7805 -538083.91  1196.352900  40.529947  2.014515\n",
       "13  63000.0  2940.0406 -539142.45  2631.955300  40.487214  2.020901\n",
       "14  64000.0  3005.2173 -538122.48 -1296.346500  40.528008  2.014805\n",
       "15  65000.0  2930.7983 -538002.76 -2005.315900  40.514786  2.016778\n",
       "16  66000.0  3028.5625 -539032.60  -982.199530  40.447420  2.026872\n",
       "17  67000.0  2924.6372 -538583.29  4031.626400  40.457572  2.025346\n",
       "18  68000.0  3017.1608 -538640.71 -6443.312700  40.590075  2.005576\n",
       "19  69000.0  3017.1280 -539032.00 -1617.918100  40.495635  2.019640\n",
       "20  70000.0  2922.8512 -539474.11  1759.180000  40.442655  2.027588"
      ]
     },
     "execution_count": 61,
     "metadata": {},
     "output_type": "execute_result"
    }
   ],
   "source": [
    "tables.keys()\n",
    "tables['label'][-1]\n",
    "tables['df'][-1]"
   ]
  },
  {
   "cell_type": "code",
   "execution_count": 62,
   "metadata": {
    "ExecuteTime": {
     "end_time": "2019-01-23T12:54:35.827194Z",
     "start_time": "2019-01-23T12:54:35.819028Z"
    }
   },
   "outputs": [
    {
     "data": {
      "text/plain": [
       "array([ 0.9999997 ,  0.00159255, -0.99999714], dtype=float32)"
      ]
     },
     "execution_count": 62,
     "metadata": {},
     "output_type": "execute_result"
    }
   ],
   "source": [
    "np.sin(np.array([90.0 ,180.0, 270.0])/180*3.14,dtype=np.float32)"
   ]
  },
  {
   "cell_type": "code",
   "execution_count": 63,
   "metadata": {
    "ExecuteTime": {
     "end_time": "2019-01-23T12:54:36.474360Z",
     "start_time": "2019-01-23T12:54:36.467327Z"
    }
   },
   "outputs": [
    {
     "data": {
      "text/plain": [
       "[0.0015926529164868282, 0.8414709848078965, 0.1411200080598672]"
      ]
     },
     "execution_count": 63,
     "metadata": {},
     "output_type": "execute_result"
    }
   ],
   "source": [
    "from math import sin\n",
    "[sin(i) for i in [3.14,1,3]]"
   ]
  },
  {
   "cell_type": "code",
   "execution_count": 64,
   "metadata": {
    "ExecuteTime": {
     "end_time": "2019-01-23T12:54:36.985198Z",
     "start_time": "2019-01-23T12:54:36.979111Z"
    }
   },
   "outputs": [],
   "source": [
    "type(x)\n",
    "x=(np.array( [1,2,3]))"
   ]
  },
  {
   "cell_type": "code",
   "execution_count": 65,
   "metadata": {
    "ExecuteTime": {
     "end_time": "2019-01-23T12:54:37.680250Z",
     "start_time": "2019-01-23T12:54:37.673280Z"
    }
   },
   "outputs": [
    {
     "name": "stdout",
     "output_type": "stream",
     "text": [
      "[1 2 3]\n"
     ]
    },
    {
     "data": {
      "text/plain": [
       "3"
      ]
     },
     "execution_count": 65,
     "metadata": {},
     "output_type": "execute_result"
    }
   ],
   "source": [
    "print(x)\n",
    "x.shape\n",
    "x[2]"
   ]
  },
  {
   "cell_type": "code",
   "execution_count": 81,
   "metadata": {
    "ExecuteTime": {
     "end_time": "2019-01-23T13:22:22.630558Z",
     "start_time": "2019-01-23T13:22:22.625884Z"
    }
   },
   "outputs": [],
   "source": [
    "x=np.array([ [1,2,3],[4,5,6] ])"
   ]
  },
  {
   "cell_type": "code",
   "execution_count": 85,
   "metadata": {
    "ExecuteTime": {
     "end_time": "2019-01-23T13:22:37.414764Z",
     "start_time": "2019-01-23T13:22:37.407969Z"
    }
   },
   "outputs": [
    {
     "data": {
      "text/plain": [
       "array([[2, 3],\n",
       "       [5, 6]])"
      ]
     },
     "execution_count": 85,
     "metadata": {},
     "output_type": "execute_result"
    }
   ],
   "source": [
    "x[:,1:] # all rows, 1st thru last column"
   ]
  },
  {
   "cell_type": "code",
   "execution_count": 86,
   "metadata": {
    "ExecuteTime": {
     "end_time": "2019-01-23T13:22:38.007969Z",
     "start_time": "2019-01-23T13:22:38.001235Z"
    }
   },
   "outputs": [
    {
     "data": {
      "text/plain": [
       "array([[1, 3],\n",
       "       [4, 6]])"
      ]
     },
     "execution_count": 86,
     "metadata": {},
     "output_type": "execute_result"
    }
   ],
   "source": [
    "x[:,::2] # all rows, every other column"
   ]
  },
  {
   "cell_type": "code",
   "execution_count": 87,
   "metadata": {
    "ExecuteTime": {
     "end_time": "2019-01-23T13:22:38.478488Z",
     "start_time": "2019-01-23T13:22:38.469574Z"
    }
   },
   "outputs": [
    {
     "data": {
      "text/plain": [
       "array([[3, 2, 1],\n",
       "       [6, 5, 4]])"
      ]
     },
     "execution_count": 87,
     "metadata": {},
     "output_type": "execute_result"
    }
   ],
   "source": [
    "x[:,::-1] # reverse order of columns"
   ]
  },
  {
   "cell_type": "code",
   "execution_count": 88,
   "metadata": {
    "ExecuteTime": {
     "end_time": "2019-01-23T13:24:13.557509Z",
     "start_time": "2019-01-23T13:24:12.534683Z"
    }
   },
   "outputs": [
    {
     "ename": "NameError",
     "evalue": "name 'ones' is not defined",
     "output_type": "error",
     "traceback": [
      "\u001b[0;31m---------------------------------------------------------------------------\u001b[0m",
      "\u001b[0;31mNameError\u001b[0m                                 Traceback (most recent call last)",
      "\u001b[0;32m<ipython-input-88-e5b0a1dd1603>\u001b[0m in \u001b[0;36m<module>\u001b[0;34m\u001b[0m\n\u001b[0;32m----> 1\u001b[0;31m \u001b[0mx\u001b[0m\u001b[0;34m=\u001b[0m\u001b[0mones\u001b[0m\u001b[0;34m(\u001b[0m\u001b[0;36m3\u001b[0m\u001b[0;34m,\u001b[0m\u001b[0;36m3\u001b[0m\u001b[0;34m)\u001b[0m\u001b[0;34m\u001b[0m\u001b[0m\n\u001b[0m",
      "\u001b[0;31mNameError\u001b[0m: name 'ones' is not defined"
     ]
    }
   ],
   "source": [
    "x=ones(3,3)"
   ]
  },
  {
   "cell_type": "code",
   "execution_count": null,
   "metadata": {},
   "outputs": [],
   "source": []
  }
 ],
 "metadata": {
  "kernelspec": {
   "display_name": "Python 3",
   "language": "python",
   "name": "python3"
  },
  "language_info": {
   "codemirror_mode": {
    "name": "ipython",
    "version": 3
   },
   "file_extension": ".py",
   "mimetype": "text/x-python",
   "name": "python",
   "nbconvert_exporter": "python",
   "pygments_lexer": "ipython3",
   "version": "3.6.6"
  },
  "latex_envs": {
   "LaTeX_envs_menu_present": true,
   "autoclose": false,
   "autocomplete": true,
   "bibliofile": "biblio.bib",
   "cite_by": "apalike",
   "current_citInitial": 1,
   "eqLabelWithNumbers": true,
   "eqNumInitial": 1,
   "hotkeys": {
    "equation": "Ctrl-E",
    "itemize": "Ctrl-I"
   },
   "labels_anchors": false,
   "latex_user_defs": false,
   "report_style_numbering": false,
   "user_envs_cfg": false
  },
  "varInspector": {
   "cols": {
    "lenName": 16,
    "lenType": 16,
    "lenVar": 40
   },
   "kernels_config": {
    "python": {
     "delete_cmd_postfix": "",
     "delete_cmd_prefix": "del ",
     "library": "var_list.py",
     "varRefreshCmd": "print(var_dic_list())"
    },
    "r": {
     "delete_cmd_postfix": ") ",
     "delete_cmd_prefix": "rm(",
     "library": "var_list.r",
     "varRefreshCmd": "cat(var_dic_list()) "
    }
   },
   "types_to_exclude": [
    "module",
    "function",
    "builtin_function_or_method",
    "instance",
    "_Feature"
   ],
   "window_display": false
  }
 },
 "nbformat": 4,
 "nbformat_minor": 2
}
