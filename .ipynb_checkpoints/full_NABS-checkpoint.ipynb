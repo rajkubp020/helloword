{
 "cells": [
  {
   "cell_type": "code",
   "execution_count": 1,
   "metadata": {
    "scrolled": true
   },
   "outputs": [
    {
     "name": "stdout",
     "output_type": "stream",
     "text": [
      "hello python\r\n"
     ]
    }
   ],
   "source": [
    "!echo \"hello python\"\n",
    "\n",
    "import pandas as pd\n",
    "import numpy as np\n",
    "import matplotlib.pyplot as plt\n",
    "import matplotlib \n",
    "plt.rc('font', family='CMU Serif',)\n",
    "\n",
    "matplotlib.rcParams['text.latex.preamble'] = [r'\\boldmath']\n",
    "\n",
    "\n",
    "data = []\n",
    "names = []\n",
    "df = []\n",
    "ttl=['al0','al1','al2.5','al5','al7.5','al10','al12.5','al15','al17.5','al20']\n",
    "\n",
    "\n",
    "for j in range(1,1):\n",
    "    fig, ax = plt.subplots()\n",
    "    data = []\n",
    "    for i in range(1,1):\n",
    "        \n",
    "\n",
    "        #print(i)\n",
    "        foldername = '/Users/rajesh/work/simulations/full_NABS/full'+str(j)+'_'+str(i)\n",
    "        filename = foldername +'/log.lammps'\n",
    "        print(filename)\n",
    "        a = [176, 1, 177, 20] \n",
    "        a = [176, 1, 177, 260] \n",
    "        T = [[176, 1, 177, 28], [176, 1, 177, 271], [176, 1, 177, 2701], [176, 1, 177, 27001]]\n",
    "        names.append(np.genfromtxt(filename, skip_header=T[i-1][0],max_rows=T[i-1][1],dtype=str))   \n",
    "        #print(names)\n",
    "        data.append(np.genfromtxt(filename, skip_header=T[i-1][2],max_rows=T[i-1][3],dtype=float))   \n",
    "        #print(data)\n",
    "        df.append(pd.DataFrame(data[i-1],columns=names[i-1]))\n",
    "        mv=T[i-1][3]/20\n",
    "        mv=int(mv) \n",
    "        \n",
    "        #print(mv)\n",
    "        window=[ 1, 1, 1 ,1]\n",
    "        #df.append(pd.DataFrame(data[i],columns=names[i]))\n",
    "        df[i-1]['Density_moving_avg'] = df[i-1]['Density'].rolling(window=window[i-1]).mean()\n",
    "        #df[i].to_csv(foldername+'data.csv')\n",
    "        label=['100 K/ps', '10 K/ps', '1 K/ps']\n",
    "        #print(label)\n",
    "        ax.plot(df[i-1]['Temp'],df[i-1]['Density'],label='  '+label[i-1])\n",
    "        ax.set_title('  '+str(ttl[j-1]).capitalize())\n",
    "        ax.legend()\n",
    "        fig.savefig(str(ttl[j-1])+'.png',format=None,dpi=300,bbox_inches=\"tight\")\n",
    "        "
   ]
  },
  {
   "cell_type": "code",
   "execution_count": 3,
   "metadata": {},
   "outputs": [
    {
     "ename": "TypeError",
     "evalue": "object of type '_io.TextIOWrapper' has no len()",
     "output_type": "error",
     "traceback": [
      "\u001b[0;31m---------------------------------------------------------------------------\u001b[0m",
      "\u001b[0;31mTypeError\u001b[0m                                 Traceback (most recent call last)",
      "\u001b[0;32m<ipython-input-3-01e1e6382316>\u001b[0m in \u001b[0;36m<module>\u001b[0;34m\u001b[0m\n\u001b[1;32m      1\u001b[0m \u001b[0mfp\u001b[0m \u001b[0;34m=\u001b[0m \u001b[0mopen\u001b[0m\u001b[0;34m(\u001b[0m\u001b[0;34m\"log.lammps\"\u001b[0m\u001b[0;34m)\u001b[0m\u001b[0;34m\u001b[0m\u001b[0;34m\u001b[0m\u001b[0m\n\u001b[0;32m----> 2\u001b[0;31m \u001b[0mprint\u001b[0m\u001b[0;34m(\u001b[0m\u001b[0mlen\u001b[0m\u001b[0;34m(\u001b[0m\u001b[0mfp\u001b[0m\u001b[0;34m)\u001b[0m\u001b[0;34m)\u001b[0m\u001b[0;34m\u001b[0m\u001b[0;34m\u001b[0m\u001b[0m\n\u001b[0m",
      "\u001b[0;31mTypeError\u001b[0m: object of type '_io.TextIOWrapper' has no len()"
     ]
    }
   ],
   "source": [
    "fp = open(\"log.lammps\")\n",
    "print(len(fp))"
   ]
  },
  {
   "cell_type": "code",
   "execution_count": 22,
   "metadata": {},
   "outputs": [
    {
     "name": "stdout",
     "output_type": "stream",
     "text": [
      "LAMMPS (11 Aug 2017)\n"
     ]
    }
   ],
   "source": [
    "for line in reversed(list(open(\"log.lammps\"))):\n",
    "    #print(line.rstrip())\n",
    "    a=line.rstrip()\n",
    "print(a)\n"
   ]
  },
  {
   "cell_type": "code",
   "execution_count": null,
   "metadata": {},
   "outputs": [],
   "source": [
    "log.lammps"
   ]
  },
  {
   "cell_type": "code",
   "execution_count": null,
   "metadata": {},
   "outputs": [],
   "source": []
  },
  {
   "cell_type": "code",
   "execution_count": null,
   "metadata": {},
   "outputs": [],
   "source": []
  },
  {
   "cell_type": "code",
   "execution_count": null,
   "metadata": {},
   "outputs": [],
   "source": []
  },
  {
   "cell_type": "code",
   "execution_count": null,
   "metadata": {},
   "outputs": [],
   "source": []
  }
 ],
 "metadata": {
  "kernelspec": {
   "display_name": "Python 3",
   "language": "python",
   "name": "python3"
  },
  "language_info": {
   "codemirror_mode": {
    "name": "ipython",
    "version": 3
   },
   "file_extension": ".py",
   "mimetype": "text/x-python",
   "name": "python",
   "nbconvert_exporter": "python",
   "pygments_lexer": "ipython3",
   "version": "3.6.7"
  }
 },
 "nbformat": 4,
 "nbformat_minor": 2
}
