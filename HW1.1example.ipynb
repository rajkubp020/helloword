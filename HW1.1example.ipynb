{
 "cells": [
  {
   "cell_type": "markdown",
   "metadata": {},
   "source": [
    "###This code models an object moving horizontally under the influence of quadratic drag ( $f(v)=-cv^{2}$ )"
   ]
  },
  {
   "cell_type": "code",
   "execution_count": null,
   "metadata": {
    "collapsed": false
   },
   "outputs": [],
   "source": [
    "%matplotlib inline \n",
    "\n",
    "from __future__ import division, print_function\n",
    "from ivisual import *\n",
    "from math import *\n",
    "from numpy import *\n",
    "import matplotlib.pyplot as plt"
   ]
  },
  {
   "cell_type": "code",
   "execution_count": null,
   "metadata": {
    "collapsed": false
   },
   "outputs": [],
   "source": [
    "c=0.2\n",
    "m=2\n",
    "vi=5\n",
    "\n",
    "r=vector(0,0,0)\n",
    "v=vector(vi,0,0)\n",
    "\n",
    "t=0\n",
    "dt=0.2\n",
    "\n",
    "tlist=[]\n",
    "xlist=[]\n",
    "vxlist=[]\n",
    "\n",
    "tlist.append(t)\n",
    "xlist.append(r.x)\n",
    "vxlist.append(v.x)\n",
    "\n",
    "while v.x>0.01:\n",
    "    Fnet=vector(-c*mag(v)**2,0,0)            #drag force of f=-cv^2... note that you have to square the magnitude of the vector \n",
    "    v=v+Fnet/m*dt                            #momentum update...ok, actually v=p/m update E-C still works if you divide by a constant\n",
    "    r=r+v*dt                                 #position update\n",
    "    \n",
    "    t=t+dt                                  #update time\n",
    "    \n",
    "    tlist.append(t)                         #next 3 lines store updated time, x position, vx\n",
    "    xlist.append(r.x)                       # .x gives the x-component of the vector\n",
    "    vxlist.append(v.x)\n",
    "    print(t, \"   \", r.x,\"   \",v.x, \"   \",m*v.x)\n",
    "    \n",
    "#theoretical curve fit\n",
    "#the array function turns tlist into an array; numpy allows us to use an array in an expression\n",
    "vxtheor=vi/(1+(c*vi*array(tlist)/m)) #array of theoretical values for vx\n",
    "xtheor=(m/c)*log(1+c*vi*array(tlist)/m) #array of theoretical values of x  log=nat log.  log10 is base 10 log\n",
    "\n",
    "\n",
    "plt.title('vx vs t')\n",
    "plt.xlabel('time (s)')\n",
    "plt.ylabel('vx (m/s)')\n",
    "\n",
    "#plot both the numerical model and the theoretical curve\n",
    "plt.plot(tlist, vxlist, 'b.', tlist, vxtheor, 'r-')\n",
    "#plt.plot(tlist, vxtheor, 'r.')\n",
    "plt.show()\n",
    "\n",
    "plt.title('x vs t')\n",
    "plt.xlabel('time (s)')\n",
    "plt.ylabel('x (m)')\n",
    "\n",
    "#plot both the numerical model and the theoretical curve\n",
    "plt.plot(tlist, xlist, 'b.', tlist, xtheor, 'r-')\n",
    "#plt.plot(tlist, vxtheor, 'r.')\n",
    "plt.show()\n"
   ]
  },
  {
   "cell_type": "code",
   "execution_count": null,
   "metadata": {
    "collapsed": true
   },
   "outputs": [],
   "source": []
  }
 ],
 "metadata": {
  "kernelspec": {
   "display_name": "Python 2",
   "language": "python",
   "name": "python2"
  },
  "language_info": {
   "codemirror_mode": {
    "name": "ipython",
    "version": 2
   },
   "file_extension": ".py",
   "mimetype": "text/x-python",
   "name": "python",
   "nbconvert_exporter": "python",
   "pygments_lexer": "ipython2",
   "version": "2.7.12"
  }
 },
 "nbformat": 4,
 "nbformat_minor": 0
}
