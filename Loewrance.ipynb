{
 "cells": [
  {
   "cell_type": "code",
   "execution_count": 56,
   "metadata": {
    "ExecuteTime": {
     "end_time": "2019-07-23T06:26:39.264417Z",
     "start_time": "2019-07-23T06:26:38.152801Z"
    }
   },
   "outputs": [
    {
     "name": "stdout",
     "output_type": "stream",
     "text": [
      "hello python\n",
      "1\n",
      "/Users/rajesh/Desktop/Loewenstein_glass/1/log.lammps\n",
      "[array(['Step', 'Temp', 'PotEng', 'TotEng', 'Volume', 'Press', 'Lx', 'Ly',\n",
      "       'Lz', 'Pxx', 'Pyy', 'Pzz', 'Density'], dtype='<U7')]\n",
      "[array([[ 1.0011300e+05,  3.9383967e+03, -3.4142751e+04, ...,\n",
      "        -4.0065024e+02, -2.8060915e+03,  2.0482198e+00],\n",
      "       [ 1.0100000e+05,  4.0735181e+03, -3.4141283e+04, ...,\n",
      "         3.2173564e+03,  2.9794240e+03,  2.1139164e+00],\n",
      "       [ 1.0200000e+05,  3.9788934e+03, -3.4195653e+04, ...,\n",
      "         5.4954415e+03, -4.2272923e+03,  2.0787859e+00],\n",
      "       ...,\n",
      "       [ 3.7990000e+06,  3.0308179e+02, -3.6313892e+04, ...,\n",
      "        -2.6022240e+03, -5.5928663e+03,  2.8795060e+00],\n",
      "       [ 3.8000000e+06,  2.9502254e+02, -3.6317477e+04, ...,\n",
      "         1.0521907e+03, -1.3262087e+03,  2.8822364e+00],\n",
      "       [ 3.8001130e+06,  3.0863854e+02, -3.6319393e+04, ...,\n",
      "         4.8083238e+02, -1.4915517e+03,  2.8846377e+00]])]\n"
     ]
    },
    {
     "data": {
      "image/png": "[encoded data removed]",
      "text/plain": [
       "<Figure size 432x288 with 1 Axes>"
      ]
     },
     "metadata": {
      "needs_background": "light"
     },
     "output_type": "display_data"
    },
    {
     "name": "stdout",
     "output_type": "stream",
     "text": [
      "/Users/rajesh/Desktop/Loewenstein_glass/1\n"
     ]
    }
   ],
   "source": [
    "!echo \"hello python\"\n",
    "\n",
    "import pandas as pd\n",
    "import numpy as np\n",
    "import matplotlib.pyplot as plt\n",
    "import matplotlib \n",
    "plt.rc('font', family='CMU Serif',)\n",
    "\n",
    "matplotlib.rcParams['text.latex.preamble'] = [r'\\boldmath']\n",
    "\n",
    "\n",
    "data = []\n",
    "names = []\n",
    "df = []\n",
    "for j in range(1,2):\n",
    "    fig, ax = plt.subplots()\n",
    "    for i in range(1,2):\n",
    "\n",
    "        print(i)\n",
    "        foldername = '/Users/rajesh/Desktop/Loewenstein_glass/1'\n",
    "        filename = foldername +'/log.lammps'\n",
    "        print(filename)\n",
    "        a = [327, 1, 328, 3702]  \n",
    "\n",
    "        names.append(np.genfromtxt(filename, skip_header=a[0],max_rows=a[1],dtype=str))   \n",
    "        print(names)\n",
    "        data.append(np.genfromtxt(filename, skip_header=a[2],max_rows=a[3],dtype=float))   \n",
    "        print(data)\n",
    "        df.append(pd.DataFrame(data[i-1],columns=names[i-1]))\n",
    "\n",
    "        #df.append(pd.DataFrame(data[i],columns=names[i]))\n",
    "        #df[i-1]['Density_moving_avg'] = df[i-1]['Density'].rolling(window=20).mean()\n",
    "        #df[i].to_csv(foldername+'data.csv')\n",
    "        #a=[10, 1, 0.1]\n",
    "        \n",
    "        ax.plot(df[i-1]['Temp'],df[i-1]['Density'],label=str(i)+'_'+str(j))\n",
    "        #ax.plot(df[i-1]['Temp'],df[i-1]['TotEng'],label=str(i)+'_'+str(j))\n",
    "        \n",
    "        ax.legend()\n",
    "        plt.show()\n",
    "        fig.savefig(str(j)+'.png',format=None,dpi=300,bbox_inches=\"tight\")\n",
    "m1=df[i-1]['Temp'].rolling(window=20).mean()\n",
    "m2=df[i-1]['TotEng'].rolling(window=20).mean()\n",
    "m3=df[i-1]['Density'].rolling(window=20).mean()\n",
    "\n",
    "m3=df[i-1].rolling(window=50).mean()\n",
    "m3.to_csv(foldername+'/data50.csv')\n",
    "print(foldername)"
   ]
  },
  {
   "cell_type": "code",
   "execution_count": 55,
   "metadata": {
    "ExecuteTime": {
     "end_time": "2019-07-23T06:22:17.085684Z",
     "start_time": "2019-07-23T06:22:16.886427Z"
    }
   },
   "outputs": [
    {
     "data": {
      "text/plain": [
       "[<matplotlib.lines.Line2D at 0x11843d0b8>]"
      ]
     },
     "execution_count": 55,
     "metadata": {},
     "output_type": "execute_result"
    },
    {
     "data": {
      "image/png": "[encoded data removed]",
      "text/plain": [
       "<Figure size 432x288 with 1 Axes>"
      ]
     },
     "metadata": {
      "needs_background": "light"
     },
     "output_type": "display_data"
    }
   ],
   "source": [
    "\n",
    "aa=pd.read_csv(foldername+'/data50.csv')\n",
    "plt.plot(aa['Temp'],aa['PotEng'])\n",
    "\n"
   ]
  },
  {
   "cell_type": "code",
   "execution_count": 35,
   "metadata": {
    "ExecuteTime": {
     "end_time": "2019-07-23T06:05:35.542325Z",
     "start_time": "2019-07-23T06:05:35.532400Z"
    }
   },
   "outputs": [
    {
     "data": {
      "text/plain": [
       "array(['Step', 'Temp', 'PotEng', 'TotEng', 'Volume', 'Press', 'Lx', 'Ly',\n",
       "       'Lz', 'Pxx', 'Pyy', 'Pzz', 'Density'], dtype='<U7')"
      ]
     },
     "execution_count": 35,
     "metadata": {},
     "output_type": "execute_result"
    }
   ],
   "source": [
    "np.genfromtxt(filename, skip_header=a[0],max_rows=a[1],dtype=str)"
   ]
  },
  {
   "cell_type": "code",
   "execution_count": null,
   "metadata": {},
   "outputs": [],
   "source": []
  },
  {
   "cell_type": "code",
   "execution_count": null,
   "metadata": {},
   "outputs": [],
   "source": []
  }
 ],
 "metadata": {
  "kernelspec": {
   "display_name": "Python 3",
   "language": "python",
   "name": "python3"
  },
  "language_info": {
   "codemirror_mode": {
    "name": "ipython",
    "version": 3
   },
   "file_extension": ".py",
   "mimetype": "text/x-python",
   "name": "python",
   "nbconvert_exporter": "python",
   "pygments_lexer": "ipython3",
   "version": "3.6.8"
  },
  "latex_envs": {
   "LaTeX_envs_menu_present": true,
   "autoclose": false,
   "autocomplete": true,
   "bibliofile": "biblio.bib",
   "cite_by": "apalike",
   "current_citInitial": 1,
   "eqLabelWithNumbers": true,
   "eqNumInitial": 1,
   "hotkeys": {
    "equation": "Ctrl-E",
    "itemize": "Ctrl-I"
   },
   "labels_anchors": false,
   "latex_user_defs": false,
   "report_style_numbering": false,
   "user_envs_cfg": false
  },
  "varInspector": {
   "cols": {
    "lenName": 16,
    "lenType": 16,
    "lenVar": 40
   },
   "kernels_config": {
    "python": {
     "delete_cmd_postfix": "",
     "delete_cmd_prefix": "del ",
     "library": "var_list.py",
     "varRefreshCmd": "print(var_dic_list())"
    },
    "r": {
     "delete_cmd_postfix": ") ",
     "delete_cmd_prefix": "rm(",
     "library": "var_list.r",
     "varRefreshCmd": "cat(var_dic_list()) "
    }
   },
   "types_to_exclude": [
    "module",
    "function",
    "builtin_function_or_method",
    "instance",
    "_Feature"
   ],
   "window_display": false
  }
 },
 "nbformat": 4,
 "nbformat_minor": 2
}
