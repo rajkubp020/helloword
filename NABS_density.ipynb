{
 "cells": [
  {
   "cell_type": "markdown",
   "metadata": {},
   "source": [
    "# NABS Density plot\n",
    "\n",
    "## System\n",
    "Density relaxation for a time peroid of 1ns.\n",
    "\n",
    "System: Al0, Al1, Al2.5, Al5, Al7.5, Al10, Al12.5, Al15, Al17.5, Al20.\n"
   ]
  },
  {
   "cell_type": "code",
   "execution_count": 1,
   "metadata": {},
   "outputs": [
    {
     "name": "stdout",
     "output_type": "stream",
     "text": [
      "hello python\r\n"
     ]
    }
   ],
   "source": [
    "!echo \"hello python\"\n",
    "\n",
    "import pandas as pd\n",
    "import numpy as np\n",
    "import matplotlib.pyplot as plt\n",
    "import matplotlib \n",
    "font = {'family' : 'CMU Serif',\n",
    "        'weight' : 'bold',\n",
    "        'size'   : 20}\n",
    "\n",
    "matplotlib.rc('font', **font)\n",
    "\n",
    "plt.rc('text', usetex=True)\n",
    "plt.rc('font', family='CMU Serif',)\n",
    "\n",
    "matplotlib.rcParams['text.latex.preamble'] = [r'\\boldmath']"
   ]
  },
  {
   "cell_type": "code",
   "execution_count": 1,
   "metadata": {
    "scrolled": false
   },
   "outputs": [
    {
     "ename": "NameError",
     "evalue": "name 'plt' is not defined",
     "output_type": "error",
     "traceback": [
      "\u001b[0;31m---------------------------------------------------------------------------\u001b[0m",
      "\u001b[0;31mNameError\u001b[0m                                 Traceback (most recent call last)",
      "\u001b[0;32m<ipython-input-1-6f9a948d5586>\u001b[0m in \u001b[0;36m<module>\u001b[0;34m\u001b[0m\n\u001b[1;32m      4\u001b[0m \u001b[0;34m\u001b[0m\u001b[0m\n\u001b[1;32m      5\u001b[0m \u001b[0;32mfor\u001b[0m \u001b[0mj\u001b[0m \u001b[0;32min\u001b[0m \u001b[0mrange\u001b[0m\u001b[0;34m(\u001b[0m\u001b[0;36m1\u001b[0m\u001b[0;34m)\u001b[0m\u001b[0;34m:\u001b[0m\u001b[0;34m\u001b[0m\u001b[0;34m\u001b[0m\u001b[0m\n\u001b[0;32m----> 6\u001b[0;31m     \u001b[0mfig\u001b[0m\u001b[0;34m,\u001b[0m\u001b[0;34m(\u001b[0m\u001b[0max\u001b[0m\u001b[0;34m)\u001b[0m \u001b[0;34m=\u001b[0m \u001b[0mplt\u001b[0m\u001b[0;34m.\u001b[0m\u001b[0msubplots\u001b[0m\u001b[0;34m(\u001b[0m\u001b[0;36m1\u001b[0m\u001b[0;34m,\u001b[0m \u001b[0;36m1\u001b[0m\u001b[0;34m,\u001b[0m \u001b[0mfigsize\u001b[0m\u001b[0;34m=\u001b[0m\u001b[0;34m(\u001b[0m\u001b[0;36m10\u001b[0m\u001b[0;34m,\u001b[0m \u001b[0;36m8\u001b[0m\u001b[0;34m)\u001b[0m\u001b[0;34m,\u001b[0m \u001b[0mtight_layout\u001b[0m\u001b[0;34m=\u001b[0m\u001b[0;32mTrue\u001b[0m\u001b[0;34m)\u001b[0m\u001b[0;34m\u001b[0m\u001b[0;34m\u001b[0m\u001b[0m\n\u001b[0m\u001b[1;32m      7\u001b[0m     \u001b[0max\u001b[0m\u001b[0;34m.\u001b[0m\u001b[0mclear\u001b[0m\u001b[0;34m(\u001b[0m\u001b[0;34m)\u001b[0m\u001b[0;34m\u001b[0m\u001b[0;34m\u001b[0m\u001b[0m\n\u001b[1;32m      8\u001b[0m \u001b[0;34m\u001b[0m\u001b[0m\n",
      "\u001b[0;31mNameError\u001b[0m: name 'plt' is not defined"
     ]
    }
   ],
   "source": [
    "cooling_rate = [10,1,0.1,100]\n",
    "a=['al0','al1','al2.5','al5','al7.5','al10','al12.5','al15','al17.5','al20']\n",
    "seq = [4,1,2,3]\n",
    "\n",
    "for j in range(1):\n",
    "    fig,(ax) = plt.subplots(1, 1, figsize=(10, 8), tight_layout=True)\n",
    "    ax.clear()\n",
    "    \n",
    "    data = []\n",
    "    names = []\n",
    "    df = []\n",
    "    for i in range(3):\n",
    "        \n",
    "        foldername = './cool'+str(j+1)+'_'+str(seq[i])+'/'\n",
    "        filename = foldername + 'log.lammps'\n",
    "        data.append(np.genfromtxt(filename, skip_header=120,max_rows=1001))\n",
    "        names.append(np.genfromtxt(filename, skip_header=119,max_rows=1,dtype=str))\n",
    "        df.append(pd.DataFrame(data[i],columns=names[i]))\n",
    "        df[i]['Density_moving_avg'] = df[i]['Density'].rolling(window=10).mean()\n",
    "        df[i].to_csv(foldername+'data.csv')\n",
    "        \n",
    "    for i in range(4):\n",
    "        ax.plot(df[i]['Step']/1000, df[i]['Density_moving_avg'], label=r'\\textbf{{{}}}'.format(str(cooling_rate[seq[i]-1])+'K/ps'))\n",
    "    \n",
    "    ax.set_title(r'\\textbf{{{}}}'.format(a[j].title()))\n",
    "    ax.set_xlabel(r'\\textbf{Time (ps)}')\n",
    "    ax.set_ylabel(r'\\textbf{Density (moving avg)} $(g/cm^3)$')\n",
    "    ax.set_ylim([2.35,2.65])\n",
    "    ax.legend(loc='upper right')  #,bbox_to_anchor=(1,1),)\n",
    "    ax2.set_title('Cosine Curve')\n",
    "    plt.legend(frameon=False)\n",
    "    ax.tick_params(direction='in', length=9, width=2, colors='k',\n",
    "               grid_color='k', grid_alpha=0.5, )\n",
    "    \n",
    "    for axis in ['top','bottom','left','right']:\n",
    "        ax.spines[axis].set_linewidth(2)\n",
    "    \n",
    "    fig.savefig(a[j]+'.png',format=None,dpi=300,bbox_inches=\"tight\")\n",
    "    fig.show() "
   ]
  },
  {
   "cell_type": "code",
   "execution_count": null,
   "metadata": {},
   "outputs": [],
   "source": [
    "#import the pandas library and aliasing as pd\n",
    "import pandas as pd\n",
    "import numpy as np\n"
   ]
  },
  {
   "cell_type": "code",
   "execution_count": null,
   "metadata": {},
   "outputs": [],
   "source": [
    "data = np.array(['a','b','c','d'])\n",
    "s = pd.Series(data)\n",
    "print(s)"
   ]
  },
  {
   "cell_type": "code",
   "execution_count": null,
   "metadata": {},
   "outputs": [],
   "source": [
    "s = pd.Series(data,index=[100,101,102,103])\n",
    "print (s)"
   ]
  },
  {
   "cell_type": "code",
   "execution_count": null,
   "metadata": {},
   "outputs": [],
   "source": [
    "#import the pandas library and aliasing as pd\n",
    "import pandas as pd\n",
    "import numpy as np\n",
    "data = {'a' : 0., 'b' : 1., 'c' : 2.}\n",
    "s = pd.Series(data)\n",
    "print (s)\n"
   ]
  },
  {
   "cell_type": "code",
   "execution_count": null,
   "metadata": {},
   "outputs": [],
   "source": [
    "#import the pandas library and aliasing as pd\n",
    "import pandas as pd\n",
    "import numpy as np\n",
    "data = {'a' : 0., 'b' : 1., 'c' : 2.}\n",
    "s = pd.Series(data,index=['b','c','d','a','e','f'])\n",
    "print (s)"
   ]
  },
  {
   "cell_type": "code",
   "execution_count": null,
   "metadata": {},
   "outputs": [],
   "source": [
    "#import the pandas library and aliasing as pd\n",
    "import pandas as pd\n",
    "import numpy as np\n",
    "s = pd.Series(5, index=[0, 1, 2, 3])\n",
    "print (s)"
   ]
  },
  {
   "cell_type": "code",
   "execution_count": null,
   "metadata": {},
   "outputs": [],
   "source": [
    "\n",
    "foldername = '/Users/rajesh/work/simulations/OCT18/NABS/shell_script/NABS_new1_1'+'1/'\n",
    "filename = foldername + 'log.lammps'\n",
    "   \n",
    "print(filename)\n",
    "   "
   ]
  },
  {
   "cell_type": "code",
   "execution_count": null,
   "metadata": {},
   "outputs": [],
   "source": []
  },
  {
   "cell_type": "code",
   "execution_count": null,
   "metadata": {},
   "outputs": [],
   "source": [
    ")"
   ]
  },
  {
   "cell_type": "code",
   "execution_count": null,
   "metadata": {},
   "outputs": [],
   "source": []
  },
  {
   "cell_type": "code",
   "execution_count": null,
   "metadata": {},
   "outputs": [],
   "source": []
  }
 ],
 "metadata": {
  "kernelspec": {
   "display_name": "Python 3",
   "language": "python",
   "name": "python3"
  },
  "language_info": {
   "codemirror_mode": {
    "name": "ipython",
    "version": 3
   },
   "file_extension": ".py",
   "mimetype": "text/x-python",
   "name": "python",
   "nbconvert_exporter": "python",
   "pygments_lexer": "ipython3",
   "version": "3.6.7"
  }
 },
 "nbformat": 4,
 "nbformat_minor": 2
}
