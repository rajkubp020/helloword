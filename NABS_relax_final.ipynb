{
 "cells": [
  {
   "cell_type": "code",
   "execution_count": 1,
   "metadata": {
    "scrolled": false
   },
   "outputs": [],
   "source": [
    "##this script is to plot B4 and Density\n",
    "#relax structue from full simulaton final data file\n",
    "#'10 K/ps', '1 K/ps', '0.1 K/ps','100 K/ps' are [3,2,1,4]: respectivaly\n",
    "\n",
    "#0.1 K/ps--> 3\n",
    "#1 K/ps--> 2\n",
    "#10 K/ps--> 1\n",
    "#100 K/ps--> 4\n",
    "\n",
    "import pandas as pd\n",
    "import numpy as np\n",
    "import matplotlib.pyplot as plt\n",
    "import matplotlib \n",
    "\n",
    "plt.rc('font', family='CMU Serif',)\n",
    "\n",
    "matplotlib.rcParams['text.latex.preamble'] = [r'\\boldmath']\n",
    "\n",
    "EXP = np.loadtxt(\"NABS_EXP.txt\")\n",
    "\n",
    "\n",
    "fig, (ax1,ax2) = plt.subplots(2,1,figsize=[8,11])\n",
    "data = []\n",
    "names = []\n",
    "df = []\n",
    "ttl=['al0','al1','al2.5','al5','al7.5','al10','al12.5','al15','al17.5','al20']\n",
    "leg=['10 K/ps', '1 K/ps', '0.1 K/ps','100 K/ps']\n",
    "ax1.plot(ttl,EXP[:,2],label='EXP')\n",
    "ax2.plot(ttl,EXP[:,5],label='EXP')\n",
    "\n",
    "for i in [3,2,1,4]:\n",
    "    b=[] \n",
    "    d=[]\n",
    "    \n",
    "    for j in range(1,11):\n",
    "        if (i==4)&(j==7):\n",
    "            b.append(b[-1])\n",
    "            d.append(d[-1])\n",
    "            #pass\n",
    "        else:\n",
    "            #print(i)\n",
    "            foldername = '/Users/rajesh/work/simulations/cool_NABS_relax/relax10K/cool'+str(j)+'_'+str(i)\n",
    "            filename = foldername +'/log.lammps'\n",
    "            #print(filename)\n",
    "            a = [181, 1, 190, 2]  \n",
    "            #names.append(np.genfromtxt(filename, skip_header=a[0],max_rows=a[1],dtype=str))   \n",
    "            #print(names)\n",
    "            data.append(np.genfromtxt(filename, skip_header=a[2],max_rows=a[3],dtype=float))   \n",
    "            #print(names[i-1])\n",
    "            #print(data[i-1])\n",
    "            #df.append(pd.DataFrame(data[i-1][-1]),columns=names[i-1][-1])\n",
    "            bb=data[-1][-1][-1]\n",
    "            dd=data[-1][-1][-2]\n",
    "            b.append((bb-3)*100) #changed to array by .values\n",
    "        \n",
    "            d.append(dd)\n",
    "                \n",
    "                \n",
    "                \n",
    "                \n",
    "    ax1.set_ylabel('B4')\n",
    "    ax2.set_ylabel('Density')\n",
    "    ax1.set_xlabel('Al %')\n",
    "    ax2.set_xlabel('Al %')\n",
    "   \n",
    "    ax1.plot(ttl,b,label=str(leg[i-1]))\n",
    "    \n",
    "    ax2.plot(ttl,d,label=str(leg[i-1]))\n",
    "ax1.legend()\n",
    "ax2.legend()\n",
    "\n",
    "\n",
    "\n",
    "fig.savefig('B4_vs_rex.eps',format=None,dpi=300,bbox_inches=\"tight\")        \n",
    "\n",
    "        \n"
   ]
  },
  {
   "cell_type": "code",
   "execution_count": 2,
   "metadata": {},
   "outputs": [
    {
     "data": {
      "text/plain": [
       "array([ 1.9000000e+04,  3.0312628e+02, -8.1177078e+05, -1.0405893e+03,\n",
       "        3.6242380e+01,  2.4846517e+00,  3.1764706e+00])"
      ]
     },
     "execution_count": 2,
     "metadata": {},
     "output_type": "execute_result"
    }
   ],
   "source": [
    "data[-1][-1]"
   ]
  },
  {
   "cell_type": "code",
   "execution_count": null,
   "metadata": {},
   "outputs": [],
   "source": []
  },
  {
   "cell_type": "code",
   "execution_count": 3,
   "metadata": {},
   "outputs": [
    {
     "data": {
      "text/plain": [
       "[181, 1, 190, 2]"
      ]
     },
     "execution_count": 3,
     "metadata": {},
     "output_type": "execute_result"
    }
   ],
   "source": [
    " data[-1][-1][-2]\n",
    "a"
   ]
  },
  {
   "cell_type": "code",
   "execution_count": 4,
   "metadata": {},
   "outputs": [],
   "source": [
    "EXP = np.loadtxt(\"NABS_EXP.txt\")"
   ]
  },
  {
   "cell_type": "code",
   "execution_count": null,
   "metadata": {},
   "outputs": [],
   "source": []
  },
  {
   "cell_type": "code",
   "execution_count": 5,
   "metadata": {},
   "outputs": [
    {
     "data": {
      "text/plain": [
       "array([94.9, 93.2, 94.6, 91.6, 83.1, 74.4, 43.6, 19.9,  1. ,  0.8])"
      ]
     },
     "execution_count": 5,
     "metadata": {},
     "output_type": "execute_result"
    }
   ],
   "source": [
    "EXP[:,2]"
   ]
  },
  {
   "cell_type": "code",
   "execution_count": 6,
   "metadata": {},
   "outputs": [
    {
     "data": {
      "text/plain": [
       "array([2.3955, 2.4194, 2.4078, 2.3961, 2.4069, 2.4038, 2.3899, 2.385 ,\n",
       "       2.3809, 2.3687])"
      ]
     },
     "execution_count": 6,
     "metadata": {},
     "output_type": "execute_result"
    }
   ],
   "source": [
    "EXP[:,5]"
   ]
  },
  {
   "cell_type": "code",
   "execution_count": 17,
   "metadata": {},
   "outputs": [
    {
     "ename": "NameError",
     "evalue": "name 'cd' is not defined",
     "output_type": "error",
     "traceback": [
      "\u001b[0;31m---------------------------------------------------------------------------\u001b[0m",
      "\u001b[0;31mNameError\u001b[0m                                 Traceback (most recent call last)",
      "\u001b[0;32m<ipython-input-17-e9e8dda6e0d0>\u001b[0m in \u001b[0;36m<module>\u001b[0;34m()\u001b[0m\n\u001b[1;32m      1\u001b[0m \u001b[0;34m\u001b[0m\u001b[0m\n\u001b[0;32m----> 2\u001b[0;31m \u001b[0mcd\u001b[0m \u001b[0;34m/\u001b[0m\u001b[0mUsers\u001b[0m\u001b[0;34m/\u001b[0m\u001b[0mrajesh\u001b[0m\u001b[0;34m/\u001b[0m\u001b[0mwork\u001b[0m\u001b[0;34m/\u001b[0m\u001b[0mgithub\u001b[0m\u001b[0;34m/\u001b[0m\u001b[0mhelloword\u001b[0m\u001b[0;34m\u001b[0m\u001b[0m\n\u001b[0m",
      "\u001b[0;31mNameError\u001b[0m: name 'cd' is not defined"
     ]
    }
   ],
   "source": [
    "\n",
    "cd /Users/rajesh/work/github/helloword"
   ]
  },
  {
   "cell_type": "code",
   "execution_count": 23,
   "metadata": {},
   "outputs": [
    {
     "name": "stdout",
     "output_type": "stream",
     "text": [
      "<_io.TextIOWrapper name='/Users/rajesh/work/github/helloword/gps_track.txt' mode='r' encoding='UTF-8'>\n"
     ]
    },
    {
     "ename": "AttributeError",
     "evalue": "'_csv.reader' object has no attribute 'next'",
     "output_type": "error",
     "traceback": [
      "\u001b[0;31m---------------------------------------------------------------------------\u001b[0m",
      "\u001b[0;31mAttributeError\u001b[0m                            Traceback (most recent call last)",
      "\u001b[0;32m<ipython-input-23-5fd530b00537>\u001b[0m in \u001b[0;36m<module>\u001b[0;34m()\u001b[0m\n\u001b[1;32m      8\u001b[0m \u001b[0;31m# Set up CSV reader and process the header\u001b[0m\u001b[0;34m\u001b[0m\u001b[0;34m\u001b[0m\u001b[0m\n\u001b[1;32m      9\u001b[0m \u001b[0mcsvReader\u001b[0m \u001b[0;34m=\u001b[0m \u001b[0mcsv\u001b[0m\u001b[0;34m.\u001b[0m\u001b[0mreader\u001b[0m\u001b[0;34m(\u001b[0m\u001b[0mgpsTrack\u001b[0m\u001b[0;34m)\u001b[0m\u001b[0;34m\u001b[0m\u001b[0m\n\u001b[0;32m---> 10\u001b[0;31m \u001b[0mheader\u001b[0m \u001b[0;34m=\u001b[0m \u001b[0mcsvReader\u001b[0m\u001b[0;34m.\u001b[0m\u001b[0mnext\u001b[0m\u001b[0;34m(\u001b[0m\u001b[0;34m)\u001b[0m\u001b[0;34m\u001b[0m\u001b[0m\n\u001b[0m\u001b[1;32m     11\u001b[0m \u001b[0mlatIndex\u001b[0m \u001b[0;34m=\u001b[0m \u001b[0mheader\u001b[0m\u001b[0;34m.\u001b[0m\u001b[0mindex\u001b[0m\u001b[0;34m(\u001b[0m\u001b[0;34m\"lat\"\u001b[0m\u001b[0;34m)\u001b[0m\u001b[0;34m\u001b[0m\u001b[0m\n\u001b[1;32m     12\u001b[0m \u001b[0mlonIndex\u001b[0m \u001b[0;34m=\u001b[0m \u001b[0mheader\u001b[0m\u001b[0;34m.\u001b[0m\u001b[0mindex\u001b[0m\u001b[0;34m(\u001b[0m\u001b[0;34m\"long\"\u001b[0m\u001b[0;34m)\u001b[0m\u001b[0;34m\u001b[0m\u001b[0m\n",
      "\u001b[0;31mAttributeError\u001b[0m: '_csv.reader' object has no attribute 'next'"
     ]
    }
   ],
   "source": [
    "# This script reads a GPS track in CSV format and\n",
    "#  prints a list of coordinate pairs\n",
    "import csv\n",
    " \n",
    "# Set up input and output variables for the script\n",
    "gpsTrack = open(\"/Users/rajesh/work/github/helloword/gps_track.txt\", \"r\")\n",
    "print(gpsTrack)\n",
    "# Set up CSV reader and process the header\n",
    "csvReader = csv.reader(gpsTrack)\n",
    "header = csvReader.next()\n",
    "latIndex = header.index(\"lat\")\n",
    "lonIndex = header.index(\"long\")\n",
    " \n",
    "# Make an empty list\n",
    "coordList = []\n",
    " \n",
    "# Loop through the lines in the file and get each coordinate\n",
    "for row in csvReader:\n",
    "    lat = row[latIndex]\n",
    "    lon = row[lonIndex]\n",
    "    coordList.append([lat,lon])\n",
    " \n",
    "# Print the coordinate list\n",
    "print (coordList)"
   ]
  },
  {
   "cell_type": "code",
   "execution_count": 20,
   "metadata": {},
   "outputs": [
    {
     "data": {
      "text/plain": [
       "'/Users/rajesh'"
      ]
     },
     "execution_count": 20,
     "metadata": {},
     "output_type": "execute_result"
    }
   ],
   "source": [
    "%pwd"
   ]
  },
  {
   "cell_type": "code",
   "execution_count": 13,
   "metadata": {},
   "outputs": [
    {
     "name": "stdout",
     "output_type": "stream",
     "text": [
      "[Errno 2] No such file or directory: '../Desktop'\n",
      "/Users/rajesh\n"
     ]
    }
   ],
   "source": [
    "cd ../Desktop"
   ]
  },
  {
   "cell_type": "code",
   "execution_count": null,
   "metadata": {},
   "outputs": [],
   "source": []
  }
 ],
 "metadata": {
  "kernelspec": {
   "display_name": "Python 3",
   "language": "python",
   "name": "python3"
  },
  "language_info": {
   "codemirror_mode": {
    "name": "ipython",
    "version": 3
   },
   "file_extension": ".py",
   "mimetype": "text/x-python",
   "name": "python",
   "nbconvert_exporter": "python",
   "pygments_lexer": "ipython3",
   "version": "3.6.4"
  }
 },
 "nbformat": 4,
 "nbformat_minor": 2
}
