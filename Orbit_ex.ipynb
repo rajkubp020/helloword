{
 "cells": [
  {
   "cell_type": "code",
   "execution_count": null,
   "metadata": {
    "collapsed": false
   },
   "outputs": [],
   "source": [
    "%matplotlib inline \n",
    "\n",
    "from __future__ import division, print_function\n",
    "from vpython import *\n",
    "from math import *\n",
    "import numpy as np\n",
    "import matplotlib.pyplot as plt"
   ]
  },
  {
   "cell_type": "code",
   "execution_count": null,
   "metadata": {
    "collapsed": false
   },
   "outputs": [],
   "source": [
    "G = 6.7e-11\n",
    "dt = 5e3\n",
    "t = 0\n",
    "scene=canvas(title=\"Orbit\")\n",
    "\n",
    "star = sphere(pos=vec(0,0,0), color=color.yellow, radius=1e10,make_trail=True)\n",
    "\n",
    "star.mass = 2.0e30\n",
    "planet = sphere(pos=vec(1.5e11,0,0), radius=5e9, color=color.cyan, make_trail=True)\n",
    "planet.mass = 6.0e24\n",
    "planet.p = planet.mass * vec(0,3e4,0)\n",
    "star.p=-planet.p\n",
    "\n",
    "tlist=[]\n",
    "pl_xlist=[]\n",
    "pl_pxlist=[]\n",
    "\n",
    "tlist.append(t)\n",
    "pl_xlist.append(planet.pos.x)\n",
    "pl_pxlist.append(planet.p.x)\n",
    "\n",
    "while mag(star.pos-planet.pos)>7e8 and t<9e7:\n",
    "    rate(1000)\n",
    "    r = planet.pos-star.pos\n",
    "    rhat=r/mag(r)\n",
    "    F = -G*planet.mass*star.mass*rhat/mag(r)**2\n",
    "    planet.p = planet.p + F*dt\n",
    "    planet.pos = planet.pos + (planet.p/planet.mass)*dt\n",
    "    \n",
    "    star.p=star.p+(-F)*dt\n",
    "    star.pos=star.pos+(star.p/star.mass)*dt\n",
    "\n",
    "    t = t + dt\n",
    "    \n",
    "    tlist.append(t)\n",
    "    pl_xlist.append(planet.pos.x)\n",
    "    pl_pxlist.append(planet.p.x)\n",
    "\n",
    "#plot vx vs t\n",
    "plt.title('px vs t')\n",
    "plt.xlabel('time (s)')\n",
    "plt.ylabel('px (m/s)')\n",
    "plt.plot(tlist, pl_pxlist, 'b-')\n",
    "plt.show()\n",
    "\n",
    "#plot x vs t\n",
    "plt.title('x vs t')\n",
    "plt.xlabel('time (s)')\n",
    "plt.ylabel('x (m)')\n",
    "plt.plot(tlist, pl_xlist,'r-')\n",
    "plt.show()"
   ]
  },
  {
   "cell_type": "code",
   "execution_count": null,
   "metadata": {
    "collapsed": true
   },
   "outputs": [],
   "source": []
  }
 ],
 "metadata": {
  "kernelspec": {
   "display_name": "Python 3",
   "language": "python",
   "name": "python3"
  },
  "language_info": {
   "codemirror_mode": {
    "name": "ipython",
    "version": 3
   },
   "file_extension": ".py",
   "mimetype": "text/x-python",
   "name": "python",
   "nbconvert_exporter": "python",
   "pygments_lexer": "ipython3",
   "version": "3.5.2"
  }
 },
 "nbformat": 4,
 "nbformat_minor": 2
}
