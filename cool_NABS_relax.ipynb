{
 "cells": [
  {
   "cell_type": "code",
   "execution_count": 1,
   "metadata": {
    "ExecuteTime": {
     "end_time": "2019-02-27T10:16:29.222481Z",
     "start_time": "2019-02-27T10:16:05.957793Z"
    }
   },
   "outputs": [
    {
     "name": "stdout",
     "output_type": "stream",
     "text": [
      "hello python\r\n"
     ]
    }
   ],
   "source": [
    "!echo \"hello python\"\n",
    "\n",
    "import pandas as pd\n",
    "import numpy as np\n",
    "import matplotlib.pyplot as plt\n",
    "import matplotlib \n",
    "plt.rc('font', family='CMU Serif',)\n",
    "\n",
    "matplotlib.rcParams['text.latex.preamble'] = [r'\\boldmath']\n",
    "\n",
    "\n",
    "data = []\n",
    "names = []\n",
    "df = []\n",
    "for j in range(1,11):\n",
    "    fig, ax = plt.subplots()\n",
    "    for i in range(1,5):\n",
    "\n",
    "        #print(i)\n",
    "        foldername = '/Users/rajesh/work/simulations/cool_NABS_relax/cool'+str(j)+'_'+str(i)\n",
    "        filename = foldername +'/log.lammps'\n",
    "        #print(filename)\n",
    "        a = [119, 1, 120, 1000]  \n",
    "\n",
    "        names.append(np.genfromtxt(filename, skip_header=a[0],max_rows=a[1],dtype=str))   \n",
    "        #print(names)\n",
    "        data.append(np.genfromtxt(filename, skip_header=a[2],max_rows=a[3],dtype=float))   \n",
    "        #print(data)\n",
    "        df.append(pd.DataFrame(data[i-1],columns=names[i-1]))\n",
    "\n",
    "        #df.append(pd.DataFrame(data[i],columns=names[i]))\n",
    "        #df[i-1]['Density_moving_avg'] = df[i-1]['Density'].rolling(window=200).mean()\n",
    "        #df[i].to_csv(foldername+'data.csv')\n",
    "        a=[10, 1, 0.1]\n",
    "        \n",
    "        ax.plot(df[i-1]['Step'],df[i-1]['Density'],label=str(i)+'_'+str(j))\n",
    "        ax.legend()\n",
    "        fig.savefig(str(j)+'.png',format=None,dpi=300,bbox_inches=\"tight\")\n"
   ]
  },
  {
   "cell_type": "code",
   "execution_count": null,
   "metadata": {},
   "outputs": [],
   "source": []
  },
  {
   "cell_type": "code",
   "execution_count": 21,
   "metadata": {},
   "outputs": [
    {
     "name": "stdout",
     "output_type": "stream",
     "text": [
      "/Users/rajesh/work/github/helloword\r\n"
     ]
    }
   ],
   "source": []
  },
  {
   "cell_type": "code",
   "execution_count": null,
   "metadata": {},
   "outputs": [],
   "source": []
  }
 ],
 "metadata": {
  "kernelspec": {
   "display_name": "Python 3",
   "language": "python",
   "name": "python3"
  },
  "language_info": {
   "codemirror_mode": {
    "name": "ipython",
    "version": 3
   },
   "file_extension": ".py",
   "mimetype": "text/x-python",
   "name": "python",
   "nbconvert_exporter": "python",
   "pygments_lexer": "ipython3",
   "version": "3.6.6"
  },
  "latex_envs": {
   "LaTeX_envs_menu_present": true,
   "autoclose": false,
   "autocomplete": true,
   "bibliofile": "biblio.bib",
   "cite_by": "apalike",
   "current_citInitial": 1,
   "eqLabelWithNumbers": true,
   "eqNumInitial": 1,
   "hotkeys": {
    "equation": "Ctrl-E",
    "itemize": "Ctrl-I"
   },
   "labels_anchors": false,
   "latex_user_defs": false,
   "report_style_numbering": false,
   "user_envs_cfg": false
  },
  "varInspector": {
   "cols": {
    "lenName": 16,
    "lenType": 16,
    "lenVar": 40
   },
   "kernels_config": {
    "python": {
     "delete_cmd_postfix": "",
     "delete_cmd_prefix": "del ",
     "library": "var_list.py",
     "varRefreshCmd": "print(var_dic_list())"
    },
    "r": {
     "delete_cmd_postfix": ") ",
     "delete_cmd_prefix": "rm(",
     "library": "var_list.r",
     "varRefreshCmd": "cat(var_dic_list()) "
    }
   },
   "types_to_exclude": [
    "module",
    "function",
    "builtin_function_or_method",
    "instance",
    "_Feature"
   ],
   "window_display": false
  }
 },
 "nbformat": 4,
 "nbformat_minor": 2
}
