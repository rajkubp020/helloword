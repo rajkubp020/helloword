{
 "cells": [
  {
   "cell_type": "markdown",
   "metadata": {},
   "source": [
    "# NABS Density plot\n",
    "\n",
    "## System\n",
    "Density relaxation for a time peroid of 1ns.\n",
    "\n",
    "System: Al0, Al1, Al2.5, Al5, Al7.5, Al10, Al12.5, Al15, Al17.5, Al20.\n"
   ]
  },
  {
   "cell_type": "code",
   "execution_count": 33,
   "metadata": {
    "ExecuteTime": {
     "end_time": "2019-02-25T09:58:41.545878Z",
     "start_time": "2019-02-25T09:58:41.391406Z"
    }
   },
   "outputs": [
    {
     "name": "stdout",
     "output_type": "stream",
     "text": [
      "hello python\r\n"
     ]
    }
   ],
   "source": [
    "!echo \"hello python\"\n",
    "\n",
    "import pandas as pd\n",
    "import numpy as np\n",
    "import matplotlib.pyplot as plt\n",
    "import matplotlib \n",
    "font = {'family' : 'CMU Serif',\n",
    "        'weight' : 'bold',\n",
    "        'size'   : 20}\n",
    "\n",
    "matplotlib.rc('font', **font)\n",
    "\n",
    "plt.rc('text', usetex=True)\n",
    "plt.rc('font', family='CMU Serif',)\n",
    "\n",
    "matplotlib.rcParams['text.latex.preamble'] = [r'\\boldmath']\n",
    "\n",
    "\n",
    "import sys\n",
    "sys.path.append(\"/Users/rajesh/work/github/python_packages\")\n",
    "from lmps.log import reader\n",
    "\n"
   ]
  },
  {
   "cell_type": "code",
   "execution_count": null,
   "metadata": {
    "ExecuteTime": {
     "start_time": "2019-02-25T10:10:34.746Z"
    },
    "scrolled": false
   },
   "outputs": [
    {
     "name": "stderr",
     "output_type": "stream",
     "text": [
      "/anaconda3/lib/python3.6/site-packages/matplotlib/figure.py:2366: UserWarning: This figure includes Axes that are not compatible with tight_layout, so results might be incorrect.\n",
      "  warnings.warn(\"This figure includes Axes that are not compatible \"\n",
      "/anaconda3/lib/python3.6/site-packages/matplotlib/figure.py:445: UserWarning: Matplotlib is currently using module://ipykernel.pylab.backend_inline, which is a non-GUI backend, so cannot show the figure.\n",
      "  % get_backend())\n"
     ]
    }
   ],
   "source": [
    "cooling_rate = [10,1,0.1,100]\n",
    "a=['al0','al1','al2.5','al5','al7.5','al10','al12.5','al15','al17.5','al20']\n",
    "seq = [4,1,2,3]\n",
    "\n",
    "for j in range(10):\n",
    "    fig,(ax) = plt.subplots(1, 1, figsize=(10, 8), tight_layout=True)\n",
    "    ax.clear()\n",
    "\n",
    "    for i in range(4):\n",
    "        \n",
    "        foldername = '/Users/rajesh/work/simulations/cool/cool'+str(j+1)+'_'+str(seq[i])+'/'\n",
    "        filename = foldername + 'log.lammps'\n",
    "        tables = reader(filename)\n",
    "        df = tables['df'][2]\n",
    "        density = df['Density'].values\n",
    "        df.to_csv(foldername+'data.csv')\n",
    "        ax.plot(df['Temp'], df['Density'].rolling(window=int(500/cooling_rate[seq[i]-1])).mean(), label=r'\\textbf{{{}}}'.format(str(cooling_rate[seq[i]-1])+'K/ps'))\n",
    "    \n",
    "    ax.set_title(r'\\textbf{{{}}}'.format(a[j].title()))\n",
    "    ax.set_xlabel(r'\\textbf{Time (ps)}')\n",
    "    ax.set_ylabel(r'\\textbf{Density (moving avg)} $(g/cm^3)$')\n",
    "    #ax.set_ylim([2.35,2.65])\n",
    "    ax.legend(loc='upper right')  #,bbox_to_anchor=(1,1),)\n",
    "    plt.legend(frameon=False)\n",
    "    ax.tick_params(direction='in', length=9, width=2, colors='k',\n",
    "               grid_color='k', grid_alpha=0.5, )\n",
    "    \n",
    "    for axis in ['top','bottom','left','right']:\n",
    "        ax.spines[axis].set_linewidth(2)\n",
    "    \n",
    "    fig.savefig(a[j]+'.png',format=None,dpi=300,bbox_inches=\"tight\")\n",
    "    fig.show() "
   ]
  },
  {
   "cell_type": "code",
   "execution_count": 38,
   "metadata": {
    "ExecuteTime": {
     "end_time": "2019-02-25T10:01:22.684716Z",
     "start_time": "2019-02-25T10:01:22.677138Z"
    }
   },
   "outputs": [
    {
     "data": {
      "text/plain": [
       "['Active Fix:\\nall npt temp 3000 3000 100 iso 0 0 1000',\n",
       " 'Active Fix:\\nall npt temp 3000 2000 100 iso 49346.2 49346.2 1000',\n",
       " 'Active Fix:\\nall npt temp 2000 300 100 iso 0 0 1000',\n",
       " 'Active Fix:\\nall npt temp 300 300 100 iso 0.0 0.0 1000',\n",
       " 'Active Fix:\\nall print 1000 \"${p1} ${p2} ${p2} ${p4} ${p5}\" append ../cool.txt screen no\\nall nvt temp 300 300 100']"
      ]
     },
     "execution_count": 38,
     "metadata": {},
     "output_type": "execute_result"
    }
   ],
   "source": [
    "tables['label']"
   ]
  },
  {
   "cell_type": "code",
   "execution_count": null,
   "metadata": {},
   "outputs": [],
   "source": []
  }
 ],
 "metadata": {
  "kernelspec": {
   "display_name": "Python 3",
   "language": "python",
   "name": "python3"
  },
  "language_info": {
   "codemirror_mode": {
    "name": "ipython",
    "version": 3
   },
   "file_extension": ".py",
   "mimetype": "text/x-python",
   "name": "python",
   "nbconvert_exporter": "python",
   "pygments_lexer": "ipython3",
   "version": "3.6.6"
  },
  "latex_envs": {
   "LaTeX_envs_menu_present": true,
   "autoclose": false,
   "autocomplete": true,
   "bibliofile": "biblio.bib",
   "cite_by": "apalike",
   "current_citInitial": 1,
   "eqLabelWithNumbers": true,
   "eqNumInitial": 1,
   "hotkeys": {
    "equation": "Ctrl-E",
    "itemize": "Ctrl-I"
   },
   "labels_anchors": false,
   "latex_user_defs": false,
   "report_style_numbering": false,
   "user_envs_cfg": false
  },
  "varInspector": {
   "cols": {
    "lenName": 16,
    "lenType": 16,
    "lenVar": 40
   },
   "kernels_config": {
    "python": {
     "delete_cmd_postfix": "",
     "delete_cmd_prefix": "del ",
     "library": "var_list.py",
     "varRefreshCmd": "print(var_dic_list())"
    },
    "r": {
     "delete_cmd_postfix": ") ",
     "delete_cmd_prefix": "rm(",
     "library": "var_list.r",
     "varRefreshCmd": "cat(var_dic_list()) "
    }
   },
   "types_to_exclude": [
    "module",
    "function",
    "builtin_function_or_method",
    "instance",
    "_Feature"
   ],
   "window_display": false
  }
 },
 "nbformat": 4,
 "nbformat_minor": 2
}
