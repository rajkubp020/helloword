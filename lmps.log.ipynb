{
 "cells": [
  {
   "cell_type": "code",
   "execution_count": 40,
   "metadata": {},
   "outputs": [],
   "source": [
    "import sys\n",
    "sys.path.append(\"/Users/rajesh/work/github/python_packages\")"
   ]
  },
  {
   "cell_type": "code",
   "execution_count": 2,
   "metadata": {
    "scrolled": false
   },
   "outputs": [
    {
     "name": "stdout",
     "output_type": "stream",
     "text": [
      "/Users/rajesh/work/simulations/full_NABS/full3_3/log.lammps\n",
      "/Users/rajesh/work/simulations/full_NABS/full4_3/log.lammps\n",
      "/Users/rajesh/work/simulations/full_NABS/full8_3/log.lammps\n",
      "/Users/rajesh/work/simulations/full_NABS/full10_3/log.lammps\n"
     ]
    }
   ],
   "source": [
    "import pandas as pd\n",
    "import numpy as np\n",
    "import matplotlib.pyplot as plt\n",
    "import matplotlib \n",
    "\n",
    "plt.rc('font', family='CMU Serif',)\n",
    "\n",
    "matplotlib.rcParams['text.latex.preamble'] = [r'\\boldmath']\n",
    "\n",
    "\n",
    "data = []\n",
    "ttl=['al0','al1','al2.5','al5','al7.5','al10','al12.5','al15','al17.5','al20']\n",
    "\n",
    "x = [float(i[2:]) for i in ttl]\n",
    "x = np.array(x)\n",
    "\n",
    "table = []\n",
    "markers = ['.','o','*','s']\n",
    "color = ['k','r','b','g']\n",
    "\n",
    "\n",
    "\n",
    "fig, ax = plt.subplots()\n",
    "for i in range(1,4):\n",
    "    data = []\n",
    "    for j in range(1,11):\n",
    "        \n",
    "        foldername = '/Users/rajesh/work/simulations/full_NABS/full'+str(j)+'_'+str(i)\n",
    "        filename = foldername +'/log.lammps'\n",
    "        \n",
    "        #print(filename)\n",
    "        \n",
    "        f=open(filename)\n",
    "        lines=f.readlines()\n",
    "        \n",
    "        if (lines[-1].strip().split()[0]=='Total'):\n",
    "            data.append(float(lines[-64].strip().split()[-2]))\n",
    "        else:\n",
    "            print(filename)\n",
    "            data.append(None)\n",
    "    data = np.array(data).astype(float)\n",
    "    table.append(data)\n",
    "    mask = ~np.isnan(data)\n",
    "    ax.plot(x[mask],data[mask],markers[i]+color[i]+'-',label=str(i))    \n",
    "\n",
    "ax.legend()\n",
    "fig.savefig('density_vs_full.eps',format=None,dpi=300,bbox_inches=\"tight\")        "
   ]
  },
  {
   "cell_type": "code",
   "execution_count": 3,
   "metadata": {},
   "outputs": [],
   "source": [
    "table.append(x)\n",
    "np.savetxt('density_full.csv',table)"
   ]
  },
  {
   "cell_type": "code",
   "execution_count": 12,
   "metadata": {},
   "outputs": [
    {
     "name": "stdout",
     "output_type": "stream",
     "text": [
      "dict_keys(['df', 'label'])\n"
     ]
    },
    {
     "ename": "AttributeError",
     "evalue": "module 'lmps.log' has no attribute 'draw_plot'",
     "output_type": "error",
     "traceback": [
      "\u001b[0;31m---------------------------------------------------------------------------\u001b[0m",
      "\u001b[0;31mAttributeError\u001b[0m                            Traceback (most recent call last)",
      "\u001b[0;32m<ipython-input-12-640d9681fafa>\u001b[0m in \u001b[0;36m<module>\u001b[0;34m()\u001b[0m\n\u001b[1;32m      7\u001b[0m \u001b[0;34m\u001b[0m\u001b[0m\n\u001b[1;32m      8\u001b[0m \u001b[0;31m#help(log)\u001b[0m\u001b[0;34m\u001b[0m\u001b[0;34m\u001b[0m\u001b[0m\n\u001b[0;32m----> 9\u001b[0;31m \u001b[0mlog\u001b[0m\u001b[0;34m.\u001b[0m\u001b[0mdraw_plot\u001b[0m\u001b[0;34m(\u001b[0m\u001b[0;34m)\u001b[0m\u001b[0;34m\u001b[0m\u001b[0m\n\u001b[0m",
      "\u001b[0;31mAttributeError\u001b[0m: module 'lmps.log' has no attribute 'draw_plot'"
     ]
    }
   ],
   "source": [
    "import lmps.log as log\n",
    "tables = log.reader('/Users/rajesh/Desktop/cash_GNptR/log.2GNp')\n",
    "type(tables)\n",
    "print(tables.keys())\n",
    "#help(tables.keys())\n",
    "tables['label']\n",
    "\n",
    "#help(log)\n",
    "log.draw_plot()"
   ]
  },
  {
   "cell_type": "code",
   "execution_count": 51,
   "metadata": {},
   "outputs": [],
   "source": [
    "df = tables['df']\n",
    "labels = tables['label']"
   ]
  },
  {
   "cell_type": "code",
   "execution_count": 42,
   "metadata": {},
   "outputs": [
    {
     "data": {
      "text/plain": [
       "<matplotlib.legend.Legend at 0x11cb13160>"
      ]
     },
     "execution_count": 42,
     "metadata": {},
     "output_type": "execute_result"
    },
    {
     "data": {
      "image/png": "[encoded data removed]",
      "text/plain": [
       "<Figure size 432x288 with 1 Axes>"
      ]
     },
     "metadata": {
      "needs_background": "light"
     },
     "output_type": "display_data"
    }
   ],
   "source": [
    "for i in range(1,len(df)):\n",
    "    plt.plot(df[i]['Temp'],df[i]['Density'],label = labels[i])\n",
    "plt.legend(loc=[1.1,0])    "
   ]
  },
  {
   "cell_type": "code",
   "execution_count": 39,
   "metadata": {},
   "outputs": [
    {
     "data": {
      "text/plain": [
       "[    Step  Atoms     PotEng     Volume   Density        Press  Temp  v_chempot  \\\n",
       " 0    0.0  164.0 -14674.217  2188.5286  2.472807  270674.5100   0.0        0.0   \n",
       " 1    1.0  164.0 -16131.798  2188.5286  2.472807  249364.6800   0.0        0.0   \n",
       " 2    2.0  164.0 -17265.323  2188.5286  2.472807  306633.4900   0.0        0.0   \n",
       " 3    3.0  164.0 -18055.783  2188.5286  2.472807  481406.5400   0.0        0.0   \n",
       " 4    4.0  164.0 -18731.832  2188.5286  2.472807  119651.1500   0.0        0.0   \n",
       " 5    5.0  164.0 -19344.945  2188.5286  2.472807  378686.9700   0.0        0.0   \n",
       " 6    6.0  164.0 -19739.875  2188.5286  2.472807  367197.1600   0.0        0.0   \n",
       " 7    7.0  164.0 -19991.324  2188.5286  2.472807  229369.9600   0.0        0.0   \n",
       " 8    8.0  164.0 -20122.562  2188.5286  2.472807   25016.5010   0.0        0.0   \n",
       " 9    9.0  164.0 -20421.463  2188.5286  2.472807  172236.3500   0.0        0.0   \n",
       " 10  10.0  164.0 -20492.763  2188.5286  2.472807  193971.4500   0.0        0.0   \n",
       " 11  11.0  164.0 -20623.962  2188.5286  2.472807  207729.7300   0.0        0.0   \n",
       " 12  12.0  164.0 -20685.687  2188.5286  2.472807   99040.2850   0.0        0.0   \n",
       " 13  13.0  164.0 -20792.656  2188.5286  2.472807   31668.3230   0.0        0.0   \n",
       " 14  14.0  164.0 -20838.431  2188.5286  2.472807  104968.4600   0.0        0.0   \n",
       " 15  15.0  164.0 -20860.081  2188.5286  2.472807   66223.1420   0.0        0.0   \n",
       " 16  16.0  164.0 -20871.975  2188.5286  2.472807   26476.7250   0.0        0.0   \n",
       " 17  17.0  164.0 -20971.784  2188.5286  2.472807   68474.3330   0.0        0.0   \n",
       " 18  18.0  164.0 -21046.129  2188.5286  2.472807   79145.2250   0.0        0.0   \n",
       " 19  19.0  164.0 -21110.426  2188.5286  2.472807  -61704.3070   0.0        0.0   \n",
       " 20  20.0  164.0 -21235.615  2188.5286  2.472807   19150.5700   0.0        0.0   \n",
       " 21  21.0  164.0 -21263.786  2188.5286  2.472807    4543.6839   0.0        0.0   \n",
       " 22  22.0  164.0 -21312.070  2188.5286  2.472807  -64982.5560   0.0        0.0   \n",
       " 23  23.0  164.0 -21373.929  2188.5286  2.472807  -11968.3870   0.0        0.0   \n",
       " 24  24.0  164.0 -21406.465  2188.5286  2.472807   50945.0310   0.0        0.0   \n",
       " 25  25.0  164.0 -21415.717  2188.5286  2.472807  130153.7800   0.0        0.0   \n",
       " 26  26.0  164.0 -21436.279  2188.5286  2.472807   99109.6780   0.0        0.0   \n",
       " 27  27.0  164.0 -21446.554  2188.5286  2.472807  -23120.0000   0.0        0.0   \n",
       " 28  28.0  164.0 -21472.157  2188.5286  2.472807  -16656.1260   0.0        0.0   \n",
       " 29  29.0  164.0 -21500.630  2188.5286  2.472807   -5774.0975   0.0        0.0   \n",
       " ..   ...    ...        ...        ...       ...          ...   ...        ...   \n",
       " 33  33.0  164.0 -21642.666  2188.5286  2.472807  -32944.0660   0.0        0.0   \n",
       " 34  34.0  164.0 -21650.692  2188.5286  2.472807  125613.2600   0.0        0.0   \n",
       " 35  35.0  164.0 -21676.786  2188.5286  2.472807  -46200.4910   0.0        0.0   \n",
       " 36  36.0  164.0 -21697.452  2188.5286  2.472807   36450.3520   0.0        0.0   \n",
       " 37  37.0  164.0 -21707.435  2188.5286  2.472807  149417.4100   0.0        0.0   \n",
       " 38  38.0  164.0 -21717.682  2188.5286  2.472807  153167.8600   0.0        0.0   \n",
       " 39  39.0  164.0 -21721.116  2188.5286  2.472807   -5296.5281   0.0        0.0   \n",
       " 40  40.0  164.0 -21724.517  2188.5286  2.472807  -44011.0850   0.0        0.0   \n",
       " 41  41.0  164.0 -21740.020  2188.5286  2.472807  -23510.8990   0.0        0.0   \n",
       " 42  42.0  164.0 -21751.648  2188.5286  2.472807  -25159.0160   0.0        0.0   \n",
       " 43  43.0  164.0 -21763.829  2188.5286  2.472807  -17777.4280   0.0        0.0   \n",
       " 44  44.0  164.0 -21773.547  2188.5286  2.472807   -8003.0814   0.0        0.0   \n",
       " 45  45.0  164.0 -21776.230  2188.5286  2.472807  -17113.7300   0.0        0.0   \n",
       " 46  46.0  164.0 -21780.817  2188.5286  2.472807  -19899.3650   0.0        0.0   \n",
       " 47  47.0  164.0 -21781.928  2188.5286  2.472807   22856.0460   0.0        0.0   \n",
       " 48  48.0  164.0 -21789.122  2188.5286  2.472807   34546.4320   0.0        0.0   \n",
       " 49  49.0  164.0 -21797.958  2188.5286  2.472807    7909.3977   0.0        0.0   \n",
       " 50  50.0  164.0 -21802.017  2188.5286  2.472807  -14049.5580   0.0        0.0   \n",
       " 51  51.0  164.0 -21814.867  2188.5286  2.472807  -12785.4990   0.0        0.0   \n",
       " 52  52.0  164.0 -21821.445  2188.5286  2.472807    4905.4578   0.0        0.0   \n",
       " 53  53.0  164.0 -21825.523  2188.5286  2.472807   -3511.5104   0.0        0.0   \n",
       " 54  54.0  164.0 -21833.833  2188.5286  2.472807   21702.5200   0.0        0.0   \n",
       " 55  55.0  164.0 -21834.886  2188.5286  2.472807   31066.1150   0.0        0.0   \n",
       " 56  56.0  164.0 -21843.201  2188.5286  2.472807  -17498.6860   0.0        0.0   \n",
       " 57  57.0  164.0 -21848.383  2188.5286  2.472807  -11276.4300   0.0        0.0   \n",
       " 58  58.0  164.0 -21850.104  2188.5286  2.472807   -8802.2771   0.0        0.0   \n",
       " 59  59.0  164.0 -21852.140  2188.5286  2.472807   -8905.9511   0.0        0.0   \n",
       " 60  60.0  164.0 -21853.155  2188.5286  2.472807   -9344.4039   0.0        0.0   \n",
       " 61  61.0  164.0 -21857.469  2188.5286  2.472807   52881.5440   0.0        0.0   \n",
       " 62  62.0  164.0 -21857.470  2188.5286  2.472807   53762.8190   0.0        0.0   \n",
       " \n",
       "           Lz    v_totnsz  \n",
       " 0   9.000009  1798.88200  \n",
       " 1   9.000009  2035.89460  \n",
       " 2   9.000009  2255.83430  \n",
       " 3   9.000009  1788.20020  \n",
       " 4   9.000009  1313.37340  \n",
       " 5   9.000009   353.39807  \n",
       " 6   9.000009   678.42229  \n",
       " 7   9.000009 -1461.26540  \n",
       " 8   9.000009 -3537.47080  \n",
       " 9   9.000009 -1773.31180  \n",
       " 10  9.000009 -1289.79200  \n",
       " 11  9.000009  -623.23161  \n",
       " 12  9.000009  -761.38774  \n",
       " 13  9.000009  -929.70000  \n",
       " 14  9.000009 -1072.05160  \n",
       " 15  9.000009 -1186.36180  \n",
       " 16  9.000009 -1293.32420  \n",
       " 17  9.000009 -1337.87510  \n",
       " 18  9.000009 -1694.73810  \n",
       " 19  9.000009 -2080.98490  \n",
       " 20  9.000009 -2231.41860  \n",
       " 21  9.000009 -2278.80280  \n",
       " 22  9.000009 -2407.77830  \n",
       " 23  9.000009 -2366.32070  \n",
       " 24  9.000009 -2230.00940  \n",
       " 25  9.000009 -2142.68360  \n",
       " 26  9.000009 -2086.19670  \n",
       " 27  9.000009 -2116.02040  \n",
       " 28  9.000009 -2215.37710  \n",
       " 29  9.000009 -2283.53950  \n",
       " ..       ...         ...  \n",
       " 33  9.000009 -2698.21630  \n",
       " 34  9.000009 -2646.62840  \n",
       " 35  9.000009 -2693.95520  \n",
       " 36  9.000009 -2672.02810  \n",
       " 37  9.000009 -2535.21630  \n",
       " 38  9.000009 -2451.57460  \n",
       " 39  9.000009 -2535.99540  \n",
       " 40  9.000009 -2534.78280  \n",
       " 41  9.000009 -2463.56110  \n",
       " 42  9.000009 -2516.39670  \n",
       " 43  9.000009 -2603.73980  \n",
       " 44  9.000009 -2629.84070  \n",
       " 45  9.000009 -2629.99050  \n",
       " 46  9.000009 -2626.93110  \n",
       " 47  9.000009 -2608.99950  \n",
       " 48  9.000009 -2542.02640  \n",
       " 49  9.000009 -2638.82560  \n",
       " 50  9.000009 -2644.82680  \n",
       " 51  9.000009 -2575.10670  \n",
       " 52  9.000009 -2496.88740  \n",
       " 53  9.000009 -2541.77890  \n",
       " 54  9.000009 -2648.12460  \n",
       " 55  9.000009 -2643.35200  \n",
       " 56  9.000009 -2640.38540  \n",
       " 57  9.000009 -2663.33430  \n",
       " 58  9.000009 -2653.72860  \n",
       " 59  9.000009 -2648.61460  \n",
       " 60  9.000009 -2650.71270  \n",
       " 61  9.000009 -2628.63420  \n",
       " 62  9.000009 -2628.40870  \n",
       " \n",
       " [63 rows x 10 columns],\n",
       "      Step  Atoms    PotEng     Volume   Density      Press       Temp  \\\n",
       " 0  1522.0  296.0 -34752.55  2803.8615  2.399573  2160.4052  302.90371   \n",
       " 1  1523.0  296.0 -34752.55  2803.8620  2.399573  2151.9844  302.90371   \n",
       " \n",
       "    v_chempot        Lz   v_totnsz  \n",
       " 0        0.0  9.493891  15189.584  \n",
       " 1        0.0  9.493893  15188.401  ,\n",
       "        Step  Atoms     PotEng     Volume   Density        Press       Temp  \\\n",
       " 0    2571.0  401.0 -43365.450  3433.9800  2.264166  -3840.51040  472.74579   \n",
       " 1    2572.0  401.0 -43393.664  3434.5241  2.263807   1381.93310  487.93721   \n",
       " 2    2573.0  401.0 -43422.395  3435.0663  2.263450  10768.72400  502.56602   \n",
       " 3    2574.0  401.0 -43412.381  3435.6269  2.263080  20484.57100  488.15752   \n",
       " 4    2575.0  401.0 -43385.089  3436.2272  2.262685  21692.49700  462.56030   \n",
       " 5    2576.0  401.0 -43393.674  3436.8695  2.262262  10707.43700  461.58577   \n",
       " 6    2577.0  401.0 -43408.445  3437.5296  2.261828 -10337.44500  467.02730   \n",
       " 7    2578.0  401.0 -43407.600  3438.1618  2.261412  -9883.06740  461.22670   \n",
       " 8    2579.0  401.0 -43405.446  3438.7676  2.261013  -8319.69260  454.06662   \n",
       " 9    2580.0  401.0 -43410.331  3439.3505  2.260630 -10364.23700  451.51777   \n",
       " 10   2581.0  401.0 -43409.577  3439.9062  2.260265  -7533.81080  445.56706   \n",
       " 11   2582.0  401.0 -43408.627  3440.4411  2.259914    460.38454  439.39405   \n",
       " 12   2583.0  401.0 -43417.636  3440.9726  2.259564   4841.77260  441.53769   \n",
       " 13   2584.0  401.0 -43439.046  3441.5101  2.259212   1814.38650  451.85016   \n",
       " 14   2585.0  401.0 -43442.888  3442.0468  2.258859   2697.51390  449.20627   \n",
       " 15   2586.0  401.0 -43429.301  3442.5849  2.258506  22112.20500  435.07750   \n",
       " 16   2587.0  401.0 -43439.758  3443.1665  2.258125  18632.89500  436.64346   \n",
       " 17   2588.0  401.0 -43453.773  3443.7834  2.257720  -3395.09780  441.87396   \n",
       " 18   2589.0  401.0 -43448.521  3444.3878  2.257324 -21921.32100  433.23850   \n",
       " 19   2590.0  401.0 -43438.468  3444.9399  2.256962 -29539.23400  420.36271   \n",
       " 20   2591.0  401.0 -43434.147  3445.4237  2.256645 -26593.84800  411.47447   \n",
       " 21   2592.0  401.0 -43432.385  3445.8460  2.256369 -19151.44600  405.38094   \n",
       " 22   2593.0  401.0 -43437.595  3446.2235  2.256122  -8507.87580  405.30162   \n",
       " 23   2594.0  401.0 -43455.114  3446.5793  2.255889  22793.99300  413.43466   \n",
       " 24   2595.0  401.0 -43468.867  3446.9813  2.255626  27332.00600  419.76649   \n",
       " 25   2596.0  401.0 -43469.390  3447.4390  2.255326  10294.08200  414.44189   \n",
       " 26   2597.0  401.0 -43450.383  3447.9153  2.255015  -1718.19440  396.46573   \n",
       " 27   2598.0  401.0 -43442.558  3448.3841  2.254708  -1299.33540  385.50626   \n",
       " 28   2599.0  401.0 -43451.223  3448.8464  2.254406   4345.66220  387.31468   \n",
       " 29   2600.0  401.0 -43458.413  3449.3141  2.254100   6964.76260  388.59238   \n",
       " ..      ...    ...        ...        ...       ...          ...        ...   \n",
       " 71   2642.0  401.0 -43571.734  3454.4375  2.250757   6043.67010  333.59191   \n",
       " 72   2643.0  401.0 -43575.795  3454.4660  2.250738   7268.58200  334.46936   \n",
       " 73   2644.0  401.0 -43588.135  3454.5100  2.250710  -4853.66020  341.58818   \n",
       " 74   2645.0  401.0 -43604.465  3454.5430  2.250688  -2818.55690  351.25053   \n",
       " 75   2646.0  401.0 -43613.139  3454.5693  2.250671   9936.70220  355.40299   \n",
       " 76   2647.0  401.0 -43611.920  3454.6170  2.250640   4561.88780  351.12888   \n",
       " 77   2648.0  401.0 -43602.466  3454.6742  2.250603  -5190.21710  341.34040   \n",
       " 78   2649.0  401.0 -43600.620  3454.7198  2.250573  -8083.30440  336.32844   \n",
       " 79   2650.0  401.0 -43599.654  3454.7475  2.250555 -12576.09800  332.26535   \n",
       " 80   2651.0  401.0 -43593.206  3454.7477  2.250555 -11825.73600  324.94282   \n",
       " 81   2652.0  401.0 -43593.600  3454.7223  2.250571  -7551.28240  322.89360   \n",
       " 82   2653.0  401.0 -43607.259  3454.6806  2.250599 -11062.77300  330.73586   \n",
       " 83   2654.0  401.0 -43624.312  3454.6151  2.250641 -13974.56700  341.77785   \n",
       " 84   2655.0  401.0 -43634.770  3454.5195  2.250704 -14993.44700  347.17476   \n",
       " 85   2656.0  401.0 -43632.344  3454.3921  2.250787  -9822.72100  342.11482   \n",
       " 86   2657.0  401.0 -43619.447  3454.2444  2.250883  24846.61000  329.86549   \n",
       " 87   2658.0  401.0 -43624.625  3454.1521  2.250943  32405.21600  331.46550   \n",
       " 88   2659.0  401.0 -43647.948  3454.1311  2.250957   3147.35130  345.97669   \n",
       " 89   2660.0  401.0 -43653.006  3454.1168  2.250966    515.57822  347.56380   \n",
       " 90   2661.0  401.0 -43640.779  3454.1037  2.250974  10654.84000  335.37266   \n",
       " 91   2662.0  401.0 -43627.675  3454.1141  2.250968   4833.63660  322.13247   \n",
       " 92   2663.0  401.0 -43621.872  3454.1351  2.250954  -7758.80650  314.65138   \n",
       " 93   2664.0  401.0 -43622.451  3454.1392  2.250951 -10205.61900  312.61100   \n",
       " 94   2665.0  401.0 -43629.919  3454.1210  2.250963 -11777.32700  316.43267   \n",
       " 95   2666.0  401.0 -43642.516  3454.0774  2.250992 -14144.63500  323.31655   \n",
       " 96   2667.0  401.0 -43644.264  3454.0032  2.251040   3667.63120  321.40297   \n",
       " 97   2668.0  401.0 -43631.115  3453.9376  2.251083  19797.67000  309.80085   \n",
       " 98   2669.0  401.0 -43631.795  3453.9158  2.251097   4544.41490  307.63792   \n",
       " 99   2670.0  401.0 -43643.151  3453.9041  2.251105  -4028.17770  313.57622   \n",
       " 100  2671.0  401.0 -43646.071  3453.8836  2.251118   8291.86680  313.84817   \n",
       " \n",
       "      v_chempot         Lz   v_totnsz  \n",
       " 0          0.0  10.444870  18470.606  \n",
       " 1          0.0  10.446492  22707.304  \n",
       " 2          0.0  10.448119  28315.351  \n",
       " 3          0.0  10.449771  33243.960  \n",
       " 4          0.0  10.451461  31113.582  \n",
       " 5          0.0  10.453183  25293.860  \n",
       " 6          0.0  10.454906  15703.244  \n",
       " 7          0.0  10.456577  12392.432  \n",
       " 8          0.0  10.458190  12071.482  \n",
       " 9          0.0  10.459746  12814.456  \n",
       " 10         0.0  10.461245  17395.505  \n",
       " 11         0.0  10.462701  26078.986  \n",
       " 12         0.0  10.464143  31378.614  \n",
       " 13         0.0  10.465594  29099.192  \n",
       " 14         0.0  10.467057  25430.229  \n",
       " 15         0.0  10.468534  25420.289  \n",
       " 16         0.0  10.470048  23321.487  \n",
       " 17         0.0  10.471591  18826.008  \n",
       " 18         0.0  10.473117  16459.992  \n",
       " 19         0.0  10.474594  16940.040  \n",
       " 20         0.0  10.476013  19673.705  \n",
       " 21         0.0  10.477388  21712.487  \n",
       " 22         0.0  10.478739  22835.646  \n",
       " 23         0.0  10.480085  27516.143  \n",
       " 24         0.0  10.481484  29044.739  \n",
       " 25         0.0  10.482957  27017.010  \n",
       " 26         0.0  10.484467  23550.480  \n",
       " 27         0.0  10.485982  19815.325  \n",
       " 28         0.0  10.487496  17137.515  \n",
       " 29         0.0  10.489018  17636.589  \n",
       " ..         ...        ...        ...  \n",
       " 71         0.0  10.537828  16017.162  \n",
       " 72         0.0  10.538922  17037.186  \n",
       " 73         0.0  10.540015  15911.367  \n",
       " 74         0.0  10.541082  19962.031  \n",
       " 75         0.0  10.542132  27717.535  \n",
       " 76         0.0  10.543199  28360.169  \n",
       " 77         0.0  10.544273  29069.336  \n",
       " 78         0.0  10.545348  28099.807  \n",
       " 79         0.0  10.546423  21912.062  \n",
       " 80         0.0  10.547486  19039.821  \n",
       " 81         0.0  10.548540  18248.938  \n",
       " 82         0.0  10.549588  16257.954  \n",
       " 83         0.0  10.550616  14365.931  \n",
       " 84         0.0  10.551610  14725.801  \n",
       " 85         0.0  10.552569  20579.636  \n",
       " 86         0.0  10.553515  41209.098  \n",
       " 87         0.0  10.554530  45548.985  \n",
       " 88         0.0  10.555638  26702.816  \n",
       " 89         0.0  10.556772  21054.768  \n",
       " 90         0.0  10.557922  21528.450  \n",
       " 91         0.0  10.559098  19536.400  \n",
       " 92         0.0  10.560286  16568.059  \n",
       " 93         0.0  10.561461  15880.495  \n",
       " 94         0.0  10.562624  15632.987  \n",
       " 95         0.0  10.563773  15748.981  \n",
       " 96         0.0  10.564900  23495.170  \n",
       " 97         0.0  10.566045  33300.892  \n",
       " 98         0.0  10.567246  29358.276  \n",
       " 99         0.0  10.568471  26693.722  \n",
       " 100        0.0  10.569699  32991.723  \n",
       " \n",
       " [101 rows x 10 columns],\n",
       "       Step  Atoms     PotEng     Volume   Density       Press       Temp  \\\n",
       " 0   3138.0  401.0 -43799.844  3454.4880  2.250724 -2461.27070  313.84817   \n",
       " 1   3139.0  401.0 -43799.948  3454.8334  2.250499 -4784.69710  313.84817   \n",
       " 2   3140.0  401.0 -43799.992  3454.4880  2.250724 -2416.27370  313.84817   \n",
       " 3   3141.0  401.0 -43800.079  3454.8334  2.250499 -4724.09050  313.84817   \n",
       " 4   3142.0  401.0 -43800.170  3454.4880  2.250724 -2360.73490  313.84817   \n",
       " 5   3143.0  401.0 -43800.254  3454.8334  2.250499 -4671.36590  313.84817   \n",
       " 6   3144.0  401.0 -43800.348  3454.4880  2.250724 -2306.45840  313.84817   \n",
       " 7   3145.0  401.0 -43800.429  3454.8334  2.250499 -4619.26740  313.84817   \n",
       " 8   3146.0  401.0 -43800.527  3454.4880  2.250724 -2252.09190  313.84817   \n",
       " 9   3147.0  401.0 -43800.604  3454.8334  2.250499 -4566.42180  313.84817   \n",
       " 10  3148.0  401.0 -43800.705  3454.4880  2.250724 -2196.91160  313.84817   \n",
       " 11  3149.0  401.0 -43800.779  3454.8334  2.250499 -4513.34770  313.84817   \n",
       " 12  3150.0  401.0 -43800.853  3454.4880  2.250724 -2139.25250  313.84817   \n",
       " 13  3151.0  401.0 -43800.924  3454.8334  2.250499 -4457.91270  313.84817   \n",
       " 14  3152.0  401.0 -43801.034  3454.4880  2.250724 -2081.47880  313.84817   \n",
       " 15  3153.0  401.0 -43801.103  3454.8334  2.250499 -4404.19790  313.84817   \n",
       " 16  3154.0  401.0 -43801.218  3454.4880  2.250724 -2024.20870  313.84817   \n",
       " 17  3155.0  401.0 -43801.284  3454.8334  2.250499 -4349.17300  313.84817   \n",
       " 18  3156.0  401.0 -43801.405  3454.4880  2.250724 -1966.87510  313.84817   \n",
       " 19  3157.0  401.0 -43801.469  3454.8334  2.250499 -4290.49040  313.84817   \n",
       " 20  3158.0  401.0 -43801.598  3454.4880  2.250724 -1907.04660  313.84817   \n",
       " 21  3159.0  401.0 -43801.659  3454.8334  2.250499 -4232.32250  313.84817   \n",
       " 22  3160.0  401.0 -43801.796  3454.4880  2.250724 -1862.91760  313.84817   \n",
       " 23  3161.0  401.0 -43801.856  3454.8334  2.250499 -4173.26640  313.84817   \n",
       " 24  3162.0  401.0 -43802.002  3454.4880  2.250724 -1799.75090  313.84817   \n",
       " 25  3163.0  401.0 -43802.060  3454.8334  2.250499 -4111.57980  313.84817   \n",
       " 26  3164.0  401.0 -43802.217  3454.4880  2.250724 -1733.51720  313.84817   \n",
       " 27  3165.0  401.0 -43802.273  3454.8334  2.250499 -4064.21440  313.84817   \n",
       " 28  3166.0  401.0 -43802.443  3454.4880  2.250724 -1665.38930  313.84817   \n",
       " 29  3167.0  401.0 -43802.497  3454.8334  2.250499 -3997.73410  313.84817   \n",
       " 30  3168.0  401.0 -43802.686  3454.4880  2.250724 -1591.97980  313.84817   \n",
       " 31  3169.0  401.0 -43802.738  3454.8334  2.250499 -3925.97900  313.84817   \n",
       " 32  3170.0  401.0 -43802.951  3454.4880  2.250724 -1492.32500  313.84817   \n",
       " 33  3171.0  401.0 -43803.002  3454.8334  2.250499 -3828.75640  313.84817   \n",
       " 34  3172.0  401.0 -43803.252  3454.4880  2.250724 -1402.62190  313.84817   \n",
       " 35  3173.0  401.0 -43803.301  3454.8334  2.250499 -3740.88750  313.84817   \n",
       " 36  3174.0  401.0 -43803.612  3454.4880  2.250724 -1294.39160  313.84817   \n",
       " 37  3175.0  401.0 -43803.659  3454.8334  2.250499 -3635.17130  313.84817   \n",
       " 38  3176.0  401.0 -43804.102  3454.4880  2.250724 -1146.07560  313.84817   \n",
       " 39  3177.0  401.0 -43804.146  3454.8334  2.250499 -3490.35220  313.84817   \n",
       " 40  3178.0  401.0 -43805.275  3454.4880  2.250724  -796.64194  313.84817   \n",
       " 41  3179.0  401.0 -43805.316  3454.8334  2.250499 -3148.10300  313.84817   \n",
       " \n",
       "     v_chempot         Lz   v_totnsz  \n",
       " 0         0.0  10.571548  23497.953  \n",
       " 1         0.0  10.572605  22952.863  \n",
       " 2         0.0  10.571548  23507.314  \n",
       " 3         0.0  10.572605  22964.212  \n",
       " 4         0.0  10.571548  23520.364  \n",
       " 5         0.0  10.572605  22975.221  \n",
       " 6         0.0  10.571548  23531.727  \n",
       " 7         0.0  10.572605  22986.069  \n",
       " 8         0.0  10.571548  23543.130  \n",
       " 9         0.0  10.572605  22997.098  \n",
       " 10        0.0  10.571548  23554.612  \n",
       " 11        0.0  10.572605  23008.098  \n",
       " 12        0.0  10.571548  23565.079  \n",
       " 13        0.0  10.572605  23018.091  \n",
       " 14        0.0  10.571548  23576.485  \n",
       " 15        0.0  10.572605  23029.287  \n",
       " 16        0.0  10.571548  23588.286  \n",
       " 17        0.0  10.572605  23042.208  \n",
       " 18        0.0  10.571548  23600.192  \n",
       " 19        0.0  10.572605  23053.763  \n",
       " 20        0.0  10.571548  23612.663  \n",
       " 21        0.0  10.572605  23065.829  \n",
       " 22        0.0  10.571548  23621.137  \n",
       " 23        0.0  10.572605  23078.164  \n",
       " 24        0.0  10.571548  23634.405  \n",
       " 25        0.0  10.572605  23091.035  \n",
       " 26        0.0  10.571548  23648.203  \n",
       " 27        0.0  10.572605  23100.166  \n",
       " 28        0.0  10.571548  23662.470  \n",
       " 29        0.0  10.572605  23114.158  \n",
       " 30        0.0  10.571548  23677.795  \n",
       " 31        0.0  10.572605  23129.171  \n",
       " 32        0.0  10.571548  23694.428  \n",
       " 33        0.0  10.572605  23145.257  \n",
       " 34        0.0  10.571548  23713.175  \n",
       " 35        0.0  10.572605  23163.623  \n",
       " 36        0.0  10.571548  23735.817  \n",
       " 37        0.0  10.572605  23185.670  \n",
       " 38        0.0  10.571548  23766.559  \n",
       " 39        0.0  10.572605  23215.680  \n",
       " 40        0.0  10.571548  23838.740  \n",
       " 41        0.0  10.572605  23286.255  ]"
      ]
     },
     "execution_count": 39,
     "metadata": {},
     "output_type": "execute_result"
    }
   ],
   "source": [
    "import lmps.log as log\n",
    "#tables = log.reader('log.lammps')\n",
    "#type(tables)\n",
    "#print(tables.keys())\n",
    "#help(tables.keys())\n",
    "tables.keys()\n",
    "tables['df'][ ::5]"
   ]
  },
  {
   "cell_type": "code",
   "execution_count": 82,
   "metadata": {},
   "outputs": [
    {
     "data": {
      "text/plain": [
       "<matplotlib.legend.Legend at 0x11dd60a58>"
      ]
     },
     "execution_count": 82,
     "metadata": {},
     "output_type": "execute_result"
    },
    {
     "data": {
      "image/png": "[encoded data removed]",
      "text/plain": [
       "<Figure size 432x288 with 1 Axes>"
      ]
     },
     "metadata": {
      "needs_background": "light"
     },
     "output_type": "display_data"
    }
   ],
   "source": [
    "i=1\n",
    "plt.rc('font', family='arial',)\n",
    "plt.plot(df[i]['Time'],df[i]['Temp'],label = labels[i])\n",
    "plt.legend()\n"
   ]
  },
  {
   "cell_type": "code",
   "execution_count": 41,
   "metadata": {},
   "outputs": [],
   "source": [
    "from lmps.log import reader"
   ]
  },
  {
   "cell_type": "code",
   "execution_count": 42,
   "metadata": {},
   "outputs": [],
   "source": [
    "table=reader('/Users/rajesh/Desktop/cash_GNptR/log.2GNp')"
   ]
  },
  {
   "cell_type": "code",
   "execution_count": 46,
   "metadata": {},
   "outputs": [
    {
     "data": {
      "text/plain": [
       "'Active Fix:\\nall qeq/reax 1 0.0 10.0 1e-6 reax/c\\nall print 50 \"${step} ${atoms} ${pe} ${vol} ${density} ${press} ${temp} ${v_chempot} ${lz} ${v_totnsz}\" file GCMC.txt screen no\\nwater gcmc 1 1 0 0 111111 300 0 5 mol water\\nall npt temp 300 300 100 tri 0 0 1000'"
      ]
     },
     "execution_count": 46,
     "metadata": {},
     "output_type": "execute_result"
    }
   ],
   "source": [
    "table['label'][1]"
   ]
  },
  {
   "cell_type": "code",
   "execution_count": 47,
   "metadata": {},
   "outputs": [],
   "source": [
    "from lmps.log import plotter\n"
   ]
  },
  {
   "cell_type": "code",
   "execution_count": 51,
   "metadata": {},
   "outputs": [
    {
     "ename": "KeyError",
     "evalue": "'qtpy'",
     "output_type": "error",
     "traceback": [
      "\u001b[0;31m---------------------------------------------------------------------------\u001b[0m",
      "\u001b[0;31mKeyError\u001b[0m                                  Traceback (most recent call last)",
      "\u001b[0;32m<ipython-input-51-c408261dd836>\u001b[0m in \u001b[0;36m<module>\u001b[0;34m()\u001b[0m\n\u001b[0;32m----> 1\u001b[0;31m \u001b[0mget_ipython\u001b[0m\u001b[0;34m(\u001b[0m\u001b[0;34m)\u001b[0m\u001b[0;34m.\u001b[0m\u001b[0mrun_line_magic\u001b[0m\u001b[0;34m(\u001b[0m\u001b[0;34m'matplotlib'\u001b[0m\u001b[0;34m,\u001b[0m \u001b[0;34m'qtpy'\u001b[0m\u001b[0;34m)\u001b[0m\u001b[0;34m\u001b[0m\u001b[0m\n\u001b[0m\u001b[1;32m      2\u001b[0m \u001b[0mlp\u001b[0m \u001b[0;34m=\u001b[0m \u001b[0mplotter\u001b[0m\u001b[0;34m(\u001b[0m\u001b[0;34m'/Users/rajesh/Desktop/cash_GNptR/log.2GNp'\u001b[0m\u001b[0;34m)\u001b[0m\u001b[0;34m\u001b[0m\u001b[0m\n\u001b[1;32m      3\u001b[0m \u001b[0mlp\u001b[0m\u001b[0;34m.\u001b[0m\u001b[0mshow\u001b[0m\u001b[0;34m(\u001b[0m\u001b[0;34m)\u001b[0m\u001b[0;34m\u001b[0m\u001b[0m\n",
      "\u001b[0;32m/usr/local/lib/python3.6/site-packages/IPython/core/interactiveshell.py\u001b[0m in \u001b[0;36mrun_line_magic\u001b[0;34m(self, magic_name, line, _stack_depth)\u001b[0m\n\u001b[1;32m   2129\u001b[0m                 \u001b[0mkwargs\u001b[0m\u001b[0;34m[\u001b[0m\u001b[0;34m'local_ns'\u001b[0m\u001b[0;34m]\u001b[0m \u001b[0;34m=\u001b[0m \u001b[0msys\u001b[0m\u001b[0;34m.\u001b[0m\u001b[0m_getframe\u001b[0m\u001b[0;34m(\u001b[0m\u001b[0mstack_depth\u001b[0m\u001b[0;34m)\u001b[0m\u001b[0;34m.\u001b[0m\u001b[0mf_locals\u001b[0m\u001b[0;34m\u001b[0m\u001b[0m\n\u001b[1;32m   2130\u001b[0m             \u001b[0;32mwith\u001b[0m \u001b[0mself\u001b[0m\u001b[0;34m.\u001b[0m\u001b[0mbuiltin_trap\u001b[0m\u001b[0;34m:\u001b[0m\u001b[0;34m\u001b[0m\u001b[0m\n\u001b[0;32m-> 2131\u001b[0;31m                 \u001b[0mresult\u001b[0m \u001b[0;34m=\u001b[0m \u001b[0mfn\u001b[0m\u001b[0;34m(\u001b[0m\u001b[0;34m*\u001b[0m\u001b[0margs\u001b[0m\u001b[0;34m,\u001b[0m\u001b[0;34m**\u001b[0m\u001b[0mkwargs\u001b[0m\u001b[0;34m)\u001b[0m\u001b[0;34m\u001b[0m\u001b[0m\n\u001b[0m\u001b[1;32m   2132\u001b[0m             \u001b[0;32mreturn\u001b[0m \u001b[0mresult\u001b[0m\u001b[0;34m\u001b[0m\u001b[0m\n\u001b[1;32m   2133\u001b[0m \u001b[0;34m\u001b[0m\u001b[0m\n",
      "\u001b[0;32m<decorator-gen-107>\u001b[0m in \u001b[0;36mmatplotlib\u001b[0;34m(self, line)\u001b[0m\n",
      "\u001b[0;32m/usr/local/lib/python3.6/site-packages/IPython/core/magic.py\u001b[0m in \u001b[0;36m<lambda>\u001b[0;34m(f, *a, **k)\u001b[0m\n\u001b[1;32m    185\u001b[0m     \u001b[0;31m# but it's overkill for just that one bit of state.\u001b[0m\u001b[0;34m\u001b[0m\u001b[0;34m\u001b[0m\u001b[0m\n\u001b[1;32m    186\u001b[0m     \u001b[0;32mdef\u001b[0m \u001b[0mmagic_deco\u001b[0m\u001b[0;34m(\u001b[0m\u001b[0marg\u001b[0m\u001b[0;34m)\u001b[0m\u001b[0;34m:\u001b[0m\u001b[0;34m\u001b[0m\u001b[0m\n\u001b[0;32m--> 187\u001b[0;31m         \u001b[0mcall\u001b[0m \u001b[0;34m=\u001b[0m \u001b[0;32mlambda\u001b[0m \u001b[0mf\u001b[0m\u001b[0;34m,\u001b[0m \u001b[0;34m*\u001b[0m\u001b[0ma\u001b[0m\u001b[0;34m,\u001b[0m \u001b[0;34m**\u001b[0m\u001b[0mk\u001b[0m\u001b[0;34m:\u001b[0m \u001b[0mf\u001b[0m\u001b[0;34m(\u001b[0m\u001b[0;34m*\u001b[0m\u001b[0ma\u001b[0m\u001b[0;34m,\u001b[0m \u001b[0;34m**\u001b[0m\u001b[0mk\u001b[0m\u001b[0;34m)\u001b[0m\u001b[0;34m\u001b[0m\u001b[0m\n\u001b[0m\u001b[1;32m    188\u001b[0m \u001b[0;34m\u001b[0m\u001b[0m\n\u001b[1;32m    189\u001b[0m         \u001b[0;32mif\u001b[0m \u001b[0mcallable\u001b[0m\u001b[0;34m(\u001b[0m\u001b[0marg\u001b[0m\u001b[0;34m)\u001b[0m\u001b[0;34m:\u001b[0m\u001b[0;34m\u001b[0m\u001b[0m\n",
      "\u001b[0;32m/usr/local/lib/python3.6/site-packages/IPython/core/magics/pylab.py\u001b[0m in \u001b[0;36mmatplotlib\u001b[0;34m(self, line)\u001b[0m\n\u001b[1;32m     97\u001b[0m             \u001b[0mprint\u001b[0m\u001b[0;34m(\u001b[0m\u001b[0;34m\"Available matplotlib backends: %s\"\u001b[0m \u001b[0;34m%\u001b[0m \u001b[0mbackends_list\u001b[0m\u001b[0;34m)\u001b[0m\u001b[0;34m\u001b[0m\u001b[0m\n\u001b[1;32m     98\u001b[0m         \u001b[0;32melse\u001b[0m\u001b[0;34m:\u001b[0m\u001b[0;34m\u001b[0m\u001b[0m\n\u001b[0;32m---> 99\u001b[0;31m             \u001b[0mgui\u001b[0m\u001b[0;34m,\u001b[0m \u001b[0mbackend\u001b[0m \u001b[0;34m=\u001b[0m \u001b[0mself\u001b[0m\u001b[0;34m.\u001b[0m\u001b[0mshell\u001b[0m\u001b[0;34m.\u001b[0m\u001b[0menable_matplotlib\u001b[0m\u001b[0;34m(\u001b[0m\u001b[0margs\u001b[0m\u001b[0;34m.\u001b[0m\u001b[0mgui\u001b[0m\u001b[0;34m)\u001b[0m\u001b[0;34m\u001b[0m\u001b[0m\n\u001b[0m\u001b[1;32m    100\u001b[0m             \u001b[0mself\u001b[0m\u001b[0;34m.\u001b[0m\u001b[0m_show_matplotlib_backend\u001b[0m\u001b[0;34m(\u001b[0m\u001b[0margs\u001b[0m\u001b[0;34m.\u001b[0m\u001b[0mgui\u001b[0m\u001b[0;34m,\u001b[0m \u001b[0mbackend\u001b[0m\u001b[0;34m)\u001b[0m\u001b[0;34m\u001b[0m\u001b[0m\n\u001b[1;32m    101\u001b[0m \u001b[0;34m\u001b[0m\u001b[0m\n",
      "\u001b[0;32m/usr/local/lib/python3.6/site-packages/IPython/core/interactiveshell.py\u001b[0m in \u001b[0;36menable_matplotlib\u001b[0;34m(self, gui)\u001b[0m\n\u001b[1;32m   3037\u001b[0m         \"\"\"\n\u001b[1;32m   3038\u001b[0m         \u001b[0;32mfrom\u001b[0m \u001b[0mIPython\u001b[0m\u001b[0;34m.\u001b[0m\u001b[0mcore\u001b[0m \u001b[0;32mimport\u001b[0m \u001b[0mpylabtools\u001b[0m \u001b[0;32mas\u001b[0m \u001b[0mpt\u001b[0m\u001b[0;34m\u001b[0m\u001b[0m\n\u001b[0;32m-> 3039\u001b[0;31m         \u001b[0mgui\u001b[0m\u001b[0;34m,\u001b[0m \u001b[0mbackend\u001b[0m \u001b[0;34m=\u001b[0m \u001b[0mpt\u001b[0m\u001b[0;34m.\u001b[0m\u001b[0mfind_gui_and_backend\u001b[0m\u001b[0;34m(\u001b[0m\u001b[0mgui\u001b[0m\u001b[0;34m,\u001b[0m \u001b[0mself\u001b[0m\u001b[0;34m.\u001b[0m\u001b[0mpylab_gui_select\u001b[0m\u001b[0;34m)\u001b[0m\u001b[0;34m\u001b[0m\u001b[0m\n\u001b[0m\u001b[1;32m   3040\u001b[0m \u001b[0;34m\u001b[0m\u001b[0m\n\u001b[1;32m   3041\u001b[0m         \u001b[0;32mif\u001b[0m \u001b[0mgui\u001b[0m \u001b[0;34m!=\u001b[0m \u001b[0;34m'inline'\u001b[0m\u001b[0;34m:\u001b[0m\u001b[0;34m\u001b[0m\u001b[0m\n",
      "\u001b[0;32m/usr/local/lib/python3.6/site-packages/IPython/core/pylabtools.py\u001b[0m in \u001b[0;36mfind_gui_and_backend\u001b[0;34m(gui, gui_select)\u001b[0m\n\u001b[1;32m    275\u001b[0m     \u001b[0;32mif\u001b[0m \u001b[0mgui\u001b[0m \u001b[0;32mand\u001b[0m \u001b[0mgui\u001b[0m \u001b[0;34m!=\u001b[0m \u001b[0;34m'auto'\u001b[0m\u001b[0;34m:\u001b[0m\u001b[0;34m\u001b[0m\u001b[0m\n\u001b[1;32m    276\u001b[0m         \u001b[0;31m# select backend based on requested gui\u001b[0m\u001b[0;34m\u001b[0m\u001b[0;34m\u001b[0m\u001b[0m\n\u001b[0;32m--> 277\u001b[0;31m         \u001b[0mbackend\u001b[0m \u001b[0;34m=\u001b[0m \u001b[0mbackends\u001b[0m\u001b[0;34m[\u001b[0m\u001b[0mgui\u001b[0m\u001b[0;34m]\u001b[0m\u001b[0;34m\u001b[0m\u001b[0m\n\u001b[0m\u001b[1;32m    278\u001b[0m         \u001b[0;32mif\u001b[0m \u001b[0mgui\u001b[0m \u001b[0;34m==\u001b[0m \u001b[0;34m'agg'\u001b[0m\u001b[0;34m:\u001b[0m\u001b[0;34m\u001b[0m\u001b[0m\n\u001b[1;32m    279\u001b[0m             \u001b[0mgui\u001b[0m \u001b[0;34m=\u001b[0m \u001b[0;32mNone\u001b[0m\u001b[0;34m\u001b[0m\u001b[0m\n",
      "\u001b[0;31mKeyError\u001b[0m: 'qtpy'"
     ]
    }
   ],
   "source": [
    "%matplotlib qtpy\n",
    "lp = plotter('/Users/rajesh/Desktop/cash_GNptR/log.2GNp')\n",
    "lp.show()"
   ]
  },
  {
   "cell_type": "code",
   "execution_count": null,
   "metadata": {},
   "outputs": [],
   "source": []
  }
 ],
 "metadata": {
  "kernelspec": {
   "display_name": "Python 3",
   "language": "python",
   "name": "python3"
  },
  "language_info": {
   "codemirror_mode": {
    "name": "ipython",
    "version": 3
   },
   "file_extension": ".py",
   "mimetype": "text/x-python",
   "name": "python",
   "nbconvert_exporter": "python",
   "pygments_lexer": "ipython3",
   "version": "3.6.6"
  },
  "latex_envs": {
   "LaTeX_envs_menu_present": true,
   "autoclose": false,
   "autocomplete": true,
   "bibliofile": "biblio.bib",
   "cite_by": "apalike",
   "current_citInitial": 1,
   "eqLabelWithNumbers": true,
   "eqNumInitial": 1,
   "hotkeys": {
    "equation": "Ctrl-E",
    "itemize": "Ctrl-I"
   },
   "labels_anchors": false,
   "latex_user_defs": false,
   "report_style_numbering": false,
   "user_envs_cfg": false
  },
  "varInspector": {
   "cols": {
    "lenName": 16,
    "lenType": 16,
    "lenVar": 40
   },
   "kernels_config": {
    "python": {
     "delete_cmd_postfix": "",
     "delete_cmd_prefix": "del ",
     "library": "var_list.py",
     "varRefreshCmd": "print(var_dic_list())"
    },
    "r": {
     "delete_cmd_postfix": ") ",
     "delete_cmd_prefix": "rm(",
     "library": "var_list.r",
     "varRefreshCmd": "cat(var_dic_list()) "
    }
   },
   "types_to_exclude": [
    "module",
    "function",
    "builtin_function_or_method",
    "instance",
    "_Feature"
   ],
   "window_display": false
  }
 },
 "nbformat": 4,
 "nbformat_minor": 2
}
