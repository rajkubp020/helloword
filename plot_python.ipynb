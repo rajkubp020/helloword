{
 "cells": [
  {
   "cell_type": "code",
   "execution_count": 12,
   "metadata": {},
   "outputs": [
    {
     "ename": "SyntaxError",
     "evalue": "invalid syntax (<ipython-input-12-0f54a1e2e871>, line 23)",
     "output_type": "error",
     "traceback": [
      "\u001b[0;36m  File \u001b[0;32m\"<ipython-input-12-0f54a1e2e871>\"\u001b[0;36m, line \u001b[0;32m23\u001b[0m\n\u001b[0;31m    print(df)\u001b[0m\n\u001b[0m        ^\u001b[0m\n\u001b[0;31mSyntaxError\u001b[0m\u001b[0;31m:\u001b[0m invalid syntax\n"
     ]
    }
   ],
   "source": [
    "!echo \"hello python\"\n",
    "\n",
    "import pandas as pd\n",
    "import numpy as np\n",
    "import matplotlib.pyplot as plt\n",
    "import matplotlib \n",
    "plt.rc('font', family='CMU Serif',)\n",
    "\n",
    "matplotlib.rcParams['text.latex.preamble'] = [r'\\boldmath']\n",
    "i= list(range(1, 11))\n",
    "print(i)\n",
    "data = []\n",
    "names = []\n",
    "df = []\n",
    "\n",
    "foldername = './'\n",
    "filename = foldername +'GCMC.txt'\n",
    " \n",
    "\n",
    "\n",
    "print(filename) \n",
    "\n",
    "df=data.append(np.genfromtxt(filename, skip_header=1,max_rows=1)   \n",
    "print(df)\n",
    "fig, ax = plt.subplots()\n",
    "\n",
    "ax.plot(df[0]['Temp'],df[0]['Density'])\n",
    "\n",
    "#fig.savefig(\"test.png\")\n",
    "plt.show()"
   ]
  },
  {
   "cell_type": "code",
   "execution_count": 13,
   "metadata": {},
   "outputs": [
    {
     "data": {
      "image/png": "[encoded data removed]",
      "text/plain": [
       "<Figure size 432x288 with 1 Axes>"
      ]
     },
     "metadata": {},
     "output_type": "display_data"
    }
   ],
   "source": [
    "a=['al0','al1','al2.5','al5','al7.5','al10','al12.5','al15','al17.5','al20']\n",
    "\n",
    "\n",
    "data = []\n",
    "names = []\n",
    "df = []\n",
    "\n",
    "foldername = '/Users/rajesh/work/simulations/full_NABS/full1_'+'1/'\n",
    "filename = foldername +'log.lammps'\n",
    " \n",
    "a = [176, 1, 177, 28]  \n",
    "\n",
    "names.append(np.genfromtxt(filename, skip_header=a[0],max_rows=a[1],dtype=str))   \n",
    "\n",
    "data.append(np.genfromtxt(filename, skip_header=a[2],max_rows=a[3]))   \n",
    "\n",
    "df.append(pd.DataFrame(data[0],columns=names[0]))\n",
    "fig, ax = plt.subplots()\n",
    "\n",
    "ax.plot(df[0]['Temp'],df[0]['Density'])\n",
    "\n",
    "#fig.savefig(\"test.png\")\n",
    "plt.show()"
   ]
  },
  {
   "cell_type": "code",
   "execution_count": 14,
   "metadata": {},
   "outputs": [
    {
     "name": "stdout",
     "output_type": "stream",
     "text": [
      "1\n",
      "/Users/rajesh/work/simulations/full_NABS/full1_1/log.lammps\n"
     ]
    },
    {
     "ename": "NameError",
     "evalue": "name 'f' is not defined",
     "output_type": "error",
     "traceback": [
      "\u001b[0;31m---------------------------------------------------------------------------\u001b[0m",
      "\u001b[0;31mNameError\u001b[0m                                 Traceback (most recent call last)",
      "\u001b[0;32m<ipython-input-14-242687afd76a>\u001b[0m in \u001b[0;36m<module>\u001b[0;34m()\u001b[0m\n\u001b[1;32m     16\u001b[0m     \u001b[0mdf\u001b[0m\u001b[0;34m.\u001b[0m\u001b[0mappend\u001b[0m\u001b[0;34m(\u001b[0m\u001b[0mpd\u001b[0m\u001b[0;34m.\u001b[0m\u001b[0mDataFrame\u001b[0m\u001b[0;34m(\u001b[0m\u001b[0mdata\u001b[0m\u001b[0;34m[\u001b[0m\u001b[0mi\u001b[0m\u001b[0;34m-\u001b[0m\u001b[0;36m1\u001b[0m\u001b[0;34m]\u001b[0m\u001b[0;34m,\u001b[0m\u001b[0mcolumns\u001b[0m\u001b[0;34m=\u001b[0m\u001b[0mnames\u001b[0m\u001b[0;34m[\u001b[0m\u001b[0mi\u001b[0m\u001b[0;34m-\u001b[0m\u001b[0;36m1\u001b[0m\u001b[0;34m]\u001b[0m\u001b[0;34m)\u001b[0m\u001b[0;34m)\u001b[0m\u001b[0;34m\u001b[0m\u001b[0m\n\u001b[1;32m     17\u001b[0m \u001b[0;34m\u001b[0m\u001b[0m\n\u001b[0;32m---> 18\u001b[0;31m     \u001b[0max\u001b[0m\u001b[0;34m.\u001b[0m\u001b[0mplot\u001b[0m\u001b[0;34m(\u001b[0m\u001b[0mf\u001b[0m\u001b[0;34m[\u001b[0m\u001b[0;34m'Temp'\u001b[0m\u001b[0;34m]\u001b[0m\u001b[0;34m,\u001b[0m\u001b[0mf\u001b[0m\u001b[0;34m[\u001b[0m\u001b[0;34m'Density'\u001b[0m\u001b[0;34m]\u001b[0m\u001b[0;34m,\u001b[0m\u001b[0mlabel\u001b[0m\u001b[0;34m=\u001b[0m\u001b[0mstr\u001b[0m\u001b[0;34m(\u001b[0m\u001b[0mi\u001b[0m\u001b[0;34m)\u001b[0m\u001b[0;34m)\u001b[0m\u001b[0;34m\u001b[0m\u001b[0m\n\u001b[0m\u001b[1;32m     19\u001b[0m     \u001b[0max\u001b[0m\u001b[0;34m.\u001b[0m\u001b[0mlegend\u001b[0m\u001b[0;34m(\u001b[0m\u001b[0;34m)\u001b[0m\u001b[0;34m\u001b[0m\u001b[0m\n",
      "\u001b[0;31mNameError\u001b[0m: name 'f' is not defined"
     ]
    },
    {
     "data": {
      "image/png": "[encoded data removed]",
      "text/plain": [
       "<Figure size 432x288 with 1 Axes>"
      ]
     },
     "metadata": {},
     "output_type": "display_data"
    }
   ],
   "source": [
    "fig, ax = plt.subplots()\n",
    "\n",
    "\n",
    "for i in range(1,3):\n",
    "    \n",
    "    print(i)\n",
    "    foldername = '/Users/rajesh/work/simulations/full_NABS/full1_'+str(i)\n",
    "    filename = foldername +'/log.lammps'\n",
    "    print(filename)\n",
    "    a = [176, 1, 177, 28]  \n",
    "\n",
    "    names.append(np.genfromtxt(filename, skip_header=a[0],max_rows=a[1],dtype=str))   \n",
    "\n",
    "    data.append(np.genfromtxt(filename, skip_header=a[2],max_rows=a[3]))   \n",
    "\n",
    "    df.append(pd.DataFrame(data[i-1],columns=names[i-1]))\n",
    "    \n",
    "    ax.plot(f['Temp'],f['Density'],label=str(i))\n",
    "    ax.legend()"
   ]
  },
  {
   "cell_type": "code",
   "execution_count": null,
   "metadata": {},
   "outputs": [],
   "source": [
    "a=['al0','al1','al2.5','al5','al7.5','al10','al12.5','al15','al17.5','al20']\n",
    "print(a)\n",
    "#  \n",
    "%run script.py\n",
    "data = []\n",
    "names = []\n",
    "df = []\n",
    "#foldername = '/Users/rajesh/work/simulations/OCT18/NABS/shell_script/NABS_new1_1'+'1/'\n",
    "foldername = '/Users/rajesh/work/simulations/full_NABS/full1_'+'2/'\n",
    "filename = foldername +'log.lammps'\n",
    "#a = [97, 1, 98, 11]  \n",
    "a = [176, 1, 177, 271]  \n",
    "print(filename)\n",
    "names.append(np.genfromtxt(filename, skip_header=a[0],max_rows=a[1],dtype=str))   \n",
    "print(names)\n",
    "data.append(np.genfromtxt(filename, skip_header=a[2],max_rows=a[3]))   \n",
    "print(data)\n",
    "df.append(pd.DataFrame(data[0],columns=names[0]))\n",
    "print(a);\n",
    "#print(df[0])\n",
    "fig, ax = plt.subplots()\n",
    "#ax.plot(df[0]['Step'],df[0]['Step']/5)\n",
    "ax.plot(df[0]['Temp'],df[0]['Density'])\n",
    "ax.set(xlabel='time (ps)', ylabel='Density ($g/cm^3$)',\n",
    "       title='density plot')\n",
    "ax.grid()\n",
    "fig.savefig(\"test.png\")\n",
    "plt.show()"
   ]
  },
  {
   "cell_type": "code",
   "execution_count": null,
   "metadata": {},
   "outputs": [],
   "source": [
    "fig, ax = plt.subplots()\n",
    "\n",
    "\n",
    "for i in range(1,2):\n",
    "    \n",
    "    print(i)\n",
    "    foldername = '/Users/rajesh/work/simulations/cool_NABS_relax/cool1_'+str(i)\n",
    "    filename = foldername +'/log.lammps'\n",
    "    print(filename)\n",
    "    a = [120, 1, 121, 1000]  \n",
    "\n",
    "    names.append(np.genfromtxt(filename, skip_header=a[0],max_rows=a[1],dtype=str))   \n",
    "    print(names)\n",
    "    data.append(np.genfromtxt(filename, skip_header=a[2],max_rows=a[3]))   \n",
    "\n",
    "    df.append(pd.DataFrame(data[i-1],columns=names[i-1]))\n",
    "    \n",
    "    ax.plot(df['Temp'],df['Density'],label=str(i))\n",
    "    ax.legend()"
   ]
  },
  {
   "cell_type": "code",
   "execution_count": null,
   "metadata": {},
   "outputs": [],
   "source": [
    "print(df['Temp'])"
   ]
  },
  {
   "cell_type": "code",
   "execution_count": null,
   "metadata": {},
   "outputs": [],
   "source": []
  },
  {
   "cell_type": "code",
   "execution_count": null,
   "metadata": {},
   "outputs": [],
   "source": []
  }
 ],
 "metadata": {
  "kernelspec": {
   "display_name": "Python 3",
   "language": "python",
   "name": "python3"
  },
  "language_info": {
   "codemirror_mode": {
    "name": "ipython",
    "version": 3
   },
   "file_extension": ".py",
   "mimetype": "text/x-python",
   "name": "python",
   "nbconvert_exporter": "python",
   "pygments_lexer": "ipython3",
   "version": "3.6.6"
  },
  "latex_envs": {
   "LaTeX_envs_menu_present": true,
   "autoclose": false,
   "autocomplete": true,
   "bibliofile": "biblio.bib",
   "cite_by": "apalike",
   "current_citInitial": 1,
   "eqLabelWithNumbers": true,
   "eqNumInitial": 1,
   "hotkeys": {
    "equation": "Ctrl-E",
    "itemize": "Ctrl-I"
   },
   "labels_anchors": false,
   "latex_user_defs": false,
   "report_style_numbering": false,
   "user_envs_cfg": false
  },
  "varInspector": {
   "cols": {
    "lenName": 16,
    "lenType": 16,
    "lenVar": 40
   },
   "kernels_config": {
    "python": {
     "delete_cmd_postfix": "",
     "delete_cmd_prefix": "del ",
     "library": "var_list.py",
     "varRefreshCmd": "print(var_dic_list())"
    },
    "r": {
     "delete_cmd_postfix": ") ",
     "delete_cmd_prefix": "rm(",
     "library": "var_list.r",
     "varRefreshCmd": "cat(var_dic_list()) "
    }
   },
   "types_to_exclude": [
    "module",
    "function",
    "builtin_function_or_method",
    "instance",
    "_Feature"
   ],
   "window_display": false
  }
 },
 "nbformat": 4,
 "nbformat_minor": 2
}
