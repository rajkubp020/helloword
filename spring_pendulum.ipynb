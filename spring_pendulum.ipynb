{
 "cells": [
  {
   "cell_type": "code",
   "execution_count": null,
   "metadata": {
    "collapsed": false
   },
   "outputs": [],
   "source": [
    "%matplotlib inline \n",
    "\n",
    "from __future__ import division, print_function\n",
    "from vpython import *\n",
    "from math import *\n",
    "import numpy as np\n",
    "import matplotlib.pyplot as plt"
   ]
  },
  {
   "cell_type": "code",
   "execution_count": null,
   "metadata": {
    "collapsed": false
   },
   "outputs": [],
   "source": [
    "g=9.8  #m/s^2\n",
    "k=50   #N/m\n",
    "t=0\n",
    "\n",
    "mass=0.3 #kg\n",
    "L0=0.15 #m       equilibrium length\n",
    "L=vec(.23,-0.1,0) #m       initial position\n",
    "\n",
    "F_grav=vec(0,-mass*g,0)   #constant grav force\n",
    "#F_floor=-F_grav          #constrain to horizontal\n",
    "F_floor = vec(0,0,0)      #no floor\n",
    "\n",
    "#create the visual spring system\n",
    "scene=canvas(title=\"Spring Pendulum\")\n",
    "top = box(pos=vec(0,0,0),length=0.5, width=0.01, height=0.01)\n",
    "spring = helix(pos=vec(0,0,0), axis=L, radius=0.02, length = mag(L), coils=10, color=color.yellow)\n",
    "ball=sphere(pos=L,radius=0.03, color=color.red, make_trail=True)\n",
    "ball.v=vec(0,0,0)\n",
    "ball.p = mass  * ball.v\n",
    "\n",
    "dt=0.005             #timestep\n",
    "\n",
    "#initialize lists to store data to plot t, x, vx\n",
    "tlist=[]\n",
    "xlist=[]\n",
    "vxlist=[]\n",
    "\n",
    "tlist.append(t)\n",
    "xlist.append(ball.pos.x)\n",
    "vxlist.append(ball.v.x)\n",
    "\n",
    "while t<5:\n",
    "    rate(100)\n",
    "    L_hat=L/mag(L)              #unit vector in direction of spring axis\n",
    "    s = (mag(L)-L0)*L_hat       #extension/compression vector\n",
    "    F_sp=-k*s                   #update spring force\n",
    "    F_net=F_sp+F_grav+F_floor   #net force\n",
    "    ball.p=ball.p+F_net*dt      # momentum update\n",
    "    L=L+(ball.p/mass)*dt        # position update\n",
    "    spring.length=mag(L)        #update graphics\n",
    "    spring.axis=L\n",
    "    ball.pos=L\n",
    "    ball.v=ball.p/mass\n",
    "    t=t+dt                      #advance time\n",
    "    \n",
    "    tlist.append(t)             #store data\n",
    "    xlist.append(ball.pos.x)\n",
    "    vxlist.append(ball.p.x/mass)\n",
    "    \n",
    "#plot vx vs t\n",
    "plt.title('vx vs t')\n",
    "plt.xlabel('time (s)')\n",
    "plt.ylabel('vx (m/s)')\n",
    "plt.plot(tlist, vxlist, 'b-')\n",
    "plt.show()\n",
    "\n",
    "#plot x vs t\n",
    "plt.title('x vs t')\n",
    "plt.xlabel('time (s)')\n",
    "plt.ylabel('x (m)')\n",
    "\n",
    "plt.plot(tlist, xlist,'r-')\n",
    "plt.show()\n",
    "\n",
    "\n",
    "    "
   ]
  },
  {
   "cell_type": "code",
   "execution_count": null,
   "metadata": {
    "collapsed": true
   },
   "outputs": [],
   "source": []
  }
 ],
 "metadata": {
  "kernelspec": {
   "display_name": "Python 3",
   "language": "python",
   "name": "python3"
  },
  "language_info": {
   "codemirror_mode": {
    "name": "ipython",
    "version": 3
   },
   "file_extension": ".py",
   "mimetype": "text/x-python",
   "name": "python",
   "nbconvert_exporter": "python",
   "pygments_lexer": "ipython3",
   "version": "3.5.2"
  }
 },
 "nbformat": 4,
 "nbformat_minor": 2
}
